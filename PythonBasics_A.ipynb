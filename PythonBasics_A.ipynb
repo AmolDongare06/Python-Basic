{
  "cells": [
    {
      "cell_type": "code",
      "execution_count": 100,
      "metadata": {
        "colab": {
          "base_uri": "https://localhost:8080/"
        },
        "id": "DYsSNqkhy2Mh",
        "outputId": "9704c912-ab8d-4093-bcca-0a2862975dd0"
      },
      "outputs": [
        {
          "output_type": "stream",
          "name": "stdout",
          "text": [
            "Welcome to ExcelR!\n"
          ]
        }
      ],
      "source": [
        "print(\"Welcome to ExcelR!\")"
      ]
    },
    {
      "cell_type": "code",
      "execution_count": 101,
      "metadata": {
        "colab": {
          "base_uri": "https://localhost:8080/",
          "height": 35
        },
        "id": "ZCE7Syxbdd3H",
        "outputId": "63c8967b-db29-4944-f3fb-39946b35d0f3"
      },
      "outputs": [
        {
          "output_type": "execute_result",
          "data": {
            "text/plain": [
              "'hello'"
            ],
            "application/vnd.google.colaboratory.intrinsic+json": {
              "type": "string"
            }
          },
          "metadata": {},
          "execution_count": 101
        }
      ],
      "source": [
        "\"hello\""
      ]
    },
    {
      "cell_type": "code",
      "execution_count": 102,
      "metadata": {
        "colab": {
          "base_uri": "https://localhost:8080/"
        },
        "id": "R5Lotwnqy6JV",
        "outputId": "ff34e9a1-e737-4715-d169-9242d59259d2"
      },
      "outputs": [
        {
          "output_type": "execute_result",
          "data": {
            "text/plain": [
              "16.0"
            ]
          },
          "metadata": {},
          "execution_count": 102
        }
      ],
      "source": [
        "120/12*2-4"
      ]
    },
    {
      "cell_type": "code",
      "execution_count": 103,
      "metadata": {
        "colab": {
          "base_uri": "https://localhost:8080/"
        },
        "id": "T5hf2dwwzE7E",
        "outputId": "6228e21b-a99e-47fe-bfd0-41a570cdc6ce"
      },
      "outputs": [
        {
          "output_type": "execute_result",
          "data": {
            "text/plain": [
              "30"
            ]
          },
          "metadata": {},
          "execution_count": 103
        }
      ],
      "source": [
        "(5-2)*10"
      ]
    },
    {
      "cell_type": "code",
      "execution_count": 104,
      "metadata": {
        "colab": {
          "base_uri": "https://localhost:8080/"
        },
        "id": "pVdor4HCzrZq",
        "outputId": "5a916995-ffbb-41e8-ff41-aa1f1063c2f6"
      },
      "outputs": [
        {
          "output_type": "execute_result",
          "data": {
            "text/plain": [
              "80"
            ]
          },
          "metadata": {},
          "execution_count": 104
        }
      ],
      "source": [
        "marks=80\n",
        "marks"
      ]
    },
    {
      "cell_type": "code",
      "execution_count": 105,
      "metadata": {
        "colab": {
          "base_uri": "https://localhost:8080/"
        },
        "id": "UloOiiLH0Dq7",
        "outputId": "13a98a23-3f3a-4435-b183-10a886eefa0f"
      },
      "outputs": [
        {
          "output_type": "execute_result",
          "data": {
            "text/plain": [
              "int"
            ]
          },
          "metadata": {},
          "execution_count": 105
        }
      ],
      "source": [
        "type(marks)"
      ]
    },
    {
      "cell_type": "code",
      "execution_count": 106,
      "metadata": {
        "colab": {
          "base_uri": "https://localhost:8080/"
        },
        "id": "HbCa0D6Y0HN4",
        "outputId": "d878baba-6eaf-4a63-cd14-e7b3c9652cb0"
      },
      "outputs": [
        {
          "output_type": "execute_result",
          "data": {
            "text/plain": [
              "625"
            ]
          },
          "metadata": {},
          "execution_count": 106
        }
      ],
      "source": [
        "5**4"
      ]
    },
    {
      "cell_type": "code",
      "execution_count": 107,
      "metadata": {
        "colab": {
          "base_uri": "https://localhost:8080/"
        },
        "id": "ZCCbi1DZ0MHN",
        "outputId": "320fe1e8-912c-46f4-d798-0c87936ee7cd"
      },
      "outputs": [
        {
          "output_type": "execute_result",
          "data": {
            "text/plain": [
              "50.5"
            ]
          },
          "metadata": {},
          "execution_count": 107
        }
      ],
      "source": [
        "price=50.5\n",
        "price # only shows output of last line\n"
      ]
    },
    {
      "cell_type": "code",
      "execution_count": 108,
      "metadata": {
        "colab": {
          "base_uri": "https://localhost:8080/"
        },
        "id": "p4BG67tc1CuP",
        "outputId": "f79c252b-ae6d-425d-ecfd-2d23dd354099"
      },
      "outputs": [
        {
          "output_type": "stream",
          "name": "stdout",
          "text": [
            "50.5\n"
          ]
        },
        {
          "output_type": "execute_result",
          "data": {
            "text/plain": [
              "float"
            ]
          },
          "metadata": {},
          "execution_count": 108
        }
      ],
      "source": [
        "price=50.5\n",
        "print(price) # to see intermediate line's output use print() function\n",
        "type(price)"
      ]
    },
    {
      "cell_type": "code",
      "execution_count": 109,
      "metadata": {
        "colab": {
          "base_uri": "https://localhost:8080/"
        },
        "id": "3ztD27Kc1BUd",
        "outputId": "3c7c981d-9ffa-40a8-edc9-35b55b73c50d"
      },
      "outputs": [
        {
          "output_type": "execute_result",
          "data": {
            "text/plain": [
              "str"
            ]
          },
          "metadata": {},
          "execution_count": 109
        }
      ],
      "source": [
        "name=\"Amol\"\n",
        "type(name)"
      ]
    },
    {
      "cell_type": "code",
      "execution_count": 110,
      "metadata": {
        "colab": {
          "base_uri": "https://localhost:8080/"
        },
        "id": "4P6QLqzJ1ZPp",
        "outputId": "0ccf08c5-5e7e-4a73-92fe-ba94852134fc"
      },
      "outputs": [
        {
          "output_type": "execute_result",
          "data": {
            "text/plain": [
              "['__add__',\n",
              " '__class__',\n",
              " '__contains__',\n",
              " '__delattr__',\n",
              " '__dir__',\n",
              " '__doc__',\n",
              " '__eq__',\n",
              " '__format__',\n",
              " '__ge__',\n",
              " '__getattribute__',\n",
              " '__getitem__',\n",
              " '__getnewargs__',\n",
              " '__gt__',\n",
              " '__hash__',\n",
              " '__init__',\n",
              " '__init_subclass__',\n",
              " '__iter__',\n",
              " '__le__',\n",
              " '__len__',\n",
              " '__lt__',\n",
              " '__mod__',\n",
              " '__mul__',\n",
              " '__ne__',\n",
              " '__new__',\n",
              " '__reduce__',\n",
              " '__reduce_ex__',\n",
              " '__repr__',\n",
              " '__rmod__',\n",
              " '__rmul__',\n",
              " '__setattr__',\n",
              " '__sizeof__',\n",
              " '__str__',\n",
              " '__subclasshook__',\n",
              " 'capitalize',\n",
              " 'casefold',\n",
              " 'center',\n",
              " 'count',\n",
              " 'encode',\n",
              " 'endswith',\n",
              " 'expandtabs',\n",
              " 'find',\n",
              " 'format',\n",
              " 'format_map',\n",
              " 'index',\n",
              " 'isalnum',\n",
              " 'isalpha',\n",
              " 'isascii',\n",
              " 'isdecimal',\n",
              " 'isdigit',\n",
              " 'isidentifier',\n",
              " 'islower',\n",
              " 'isnumeric',\n",
              " 'isprintable',\n",
              " 'isspace',\n",
              " 'istitle',\n",
              " 'isupper',\n",
              " 'join',\n",
              " 'ljust',\n",
              " 'lower',\n",
              " 'lstrip',\n",
              " 'maketrans',\n",
              " 'partition',\n",
              " 'removeprefix',\n",
              " 'removesuffix',\n",
              " 'replace',\n",
              " 'rfind',\n",
              " 'rindex',\n",
              " 'rjust',\n",
              " 'rpartition',\n",
              " 'rsplit',\n",
              " 'rstrip',\n",
              " 'split',\n",
              " 'splitlines',\n",
              " 'startswith',\n",
              " 'strip',\n",
              " 'swapcase',\n",
              " 'title',\n",
              " 'translate',\n",
              " 'upper',\n",
              " 'zfill']"
            ]
          },
          "metadata": {},
          "execution_count": 110
        }
      ],
      "source": [
        "dir(str) # all methods that can be applied on strings\n",
        "# __ dunder/magic methods (double underscore methods which python uses internally)"
      ]
    },
    {
      "cell_type": "code",
      "execution_count": 111,
      "metadata": {
        "colab": {
          "base_uri": "https://localhost:8080/",
          "height": 35
        },
        "id": "Jas63r1K2KLR",
        "outputId": "eab7190a-f43c-41b4-c8a8-c3663e0e7eba"
      },
      "outputs": [
        {
          "output_type": "execute_result",
          "data": {
            "text/plain": [
              "'Welcome to data science.'"
            ],
            "application/vnd.google.colaboratory.intrinsic+json": {
              "type": "string"
            }
          },
          "metadata": {},
          "execution_count": 111
        }
      ],
      "source": [
        "str1=\"welcome to Data Science.\"\n",
        "str1.capitalize()"
      ]
    },
    {
      "cell_type": "code",
      "execution_count": 112,
      "metadata": {
        "colab": {
          "base_uri": "https://localhost:8080/",
          "height": 35
        },
        "id": "xt3FxjH023DF",
        "outputId": "bdf29800-3e1a-4bd9-8ebe-30462f78667e"
      },
      "outputs": [
        {
          "output_type": "execute_result",
          "data": {
            "text/plain": [
              "'WELCOME TO DATA SCIENCE.'"
            ],
            "application/vnd.google.colaboratory.intrinsic+json": {
              "type": "string"
            }
          },
          "metadata": {},
          "execution_count": 112
        }
      ],
      "source": [
        "str1.upper()"
      ]
    },
    {
      "cell_type": "code",
      "execution_count": 113,
      "metadata": {
        "colab": {
          "base_uri": "https://localhost:8080/",
          "height": 35
        },
        "id": "AH1td4Em2826",
        "outputId": "ddfa1727-2d86-457b-950e-04670410b560"
      },
      "outputs": [
        {
          "output_type": "execute_result",
          "data": {
            "text/plain": [
              "'welcome to data science.'"
            ],
            "application/vnd.google.colaboratory.intrinsic+json": {
              "type": "string"
            }
          },
          "metadata": {},
          "execution_count": 113
        }
      ],
      "source": [
        "str1.lower()"
      ]
    },
    {
      "cell_type": "code",
      "execution_count": 114,
      "metadata": {
        "colab": {
          "base_uri": "https://localhost:8080/",
          "height": 35
        },
        "id": "9n6alKMH2sge",
        "outputId": "828255e4-ace8-49d0-b272-45a558d4d05b"
      },
      "outputs": [
        {
          "output_type": "execute_result",
          "data": {
            "text/plain": [
              "'Welcome To Data Science.'"
            ],
            "application/vnd.google.colaboratory.intrinsic+json": {
              "type": "string"
            }
          },
          "metadata": {},
          "execution_count": 114
        }
      ],
      "source": [
        "str1.title()"
      ]
    },
    {
      "cell_type": "code",
      "execution_count": 115,
      "metadata": {
        "colab": {
          "base_uri": "https://localhost:8080/",
          "height": 53
        },
        "id": "tALQ0Gg7082F",
        "outputId": "0298dd91-46b2-4df3-a6e7-6cfeb5d8d988"
      },
      "outputs": [
        {
          "output_type": "stream",
          "name": "stdout",
          "text": [
            "BiRyaNI\n"
          ]
        },
        {
          "output_type": "execute_result",
          "data": {
            "text/plain": [
              "'aMoL'"
            ],
            "application/vnd.google.colaboratory.intrinsic+json": {
              "type": "string"
            }
          },
          "metadata": {},
          "execution_count": 115
        }
      ],
      "source": [
        "food=\"bIrYAni\"\n",
        "name=\"AmOl\"\n",
        "print(food.swapcase())\n",
        "name.swapcase()"
      ]
    },
    {
      "cell_type": "code",
      "execution_count": 116,
      "metadata": {
        "colab": {
          "base_uri": "https://localhost:8080/"
        },
        "id": "suOfGTmV30-r",
        "outputId": "8e15b6ed-1fe9-4f69-94a5-bd800fbd462f"
      },
      "outputs": [
        {
          "output_type": "stream",
          "name": "stdout",
          "text": [
            "['My', 'name', 'is', 'Amol.']\n"
          ]
        },
        {
          "output_type": "execute_result",
          "data": {
            "text/plain": [
              "['Mumbai', 'Pune', 'Mumbai']"
            ]
          },
          "metadata": {},
          "execution_count": 116
        }
      ],
      "source": [
        "s1=\"My name is Amol.\"\n",
        "print(s1.split()) # list of strings is created\n",
        "s2=\"Mumbai-Pune-Mumbai\"\n",
        "s2.split(\"-\")\n"
      ]
    },
    {
      "cell_type": "code",
      "execution_count": 117,
      "metadata": {
        "colab": {
          "base_uri": "https://localhost:8080/"
        },
        "id": "AoGBLhIZ5NKD",
        "outputId": "3a762e98-b87e-49ed-df63-a66db9ebd442"
      },
      "outputs": [
        {
          "output_type": "execute_result",
          "data": {
            "text/plain": [
              "['amoldongare006', 'gmail.com']"
            ]
          },
          "metadata": {},
          "execution_count": 117
        }
      ],
      "source": [
        "mail=\"amoldongare006@gmail.com\"\n",
        "mail.split(\"@\")"
      ]
    },
    {
      "cell_type": "code",
      "execution_count": 118,
      "metadata": {
        "colab": {
          "base_uri": "https://localhost:8080/",
          "height": 35
        },
        "id": "yQ2PPTgc5gfB",
        "outputId": "bf6e7db9-fa92-40c9-9af2-46a7c945493c"
      },
      "outputs": [
        {
          "output_type": "execute_result",
          "data": {
            "text/plain": [
              "'My name is Jyoti.'"
            ],
            "application/vnd.google.colaboratory.intrinsic+json": {
              "type": "string"
            }
          },
          "metadata": {},
          "execution_count": 118
        }
      ],
      "source": [
        "s1.replace(\"Amol\",\"Jyoti\")"
      ]
    },
    {
      "cell_type": "code",
      "execution_count": 119,
      "metadata": {
        "colab": {
          "base_uri": "https://localhost:8080/",
          "height": 35
        },
        "id": "5kghaYWU55Hl",
        "outputId": "388e89eb-a4f1-4dfb-f743-91e1fdbb99c0"
      },
      "outputs": [
        {
          "output_type": "execute_result",
          "data": {
            "text/plain": [
              "'\\nmultiline comment \\n'"
            ],
            "application/vnd.google.colaboratory.intrinsic+json": {
              "type": "string"
            }
          },
          "metadata": {},
          "execution_count": 119
        }
      ],
      "source": [
        "# single line comment\n",
        "'''\n",
        "multiline comment\n",
        "'''\n"
      ]
    },
    {
      "cell_type": "code",
      "execution_count": 120,
      "metadata": {
        "colab": {
          "base_uri": "https://localhost:8080/"
        },
        "id": "KrA3Q0Ls5GqY",
        "outputId": "ed15b739-d3d4-4769-e3f8-e4fae26292bf"
      },
      "outputs": [
        {
          "output_type": "execute_result",
          "data": {
            "text/plain": [
              "3"
            ]
          },
          "metadata": {},
          "execution_count": 120
        }
      ],
      "source": [
        "city=\"Satara\"\n",
        "city.count(\"a\")"
      ]
    },
    {
      "cell_type": "code",
      "execution_count": 121,
      "metadata": {
        "colab": {
          "base_uri": "https://localhost:8080/"
        },
        "id": "bIEQXCq56iXM",
        "outputId": "4813fae7-b7bc-4cb7-b9ea-e9ea09a93997"
      },
      "outputs": [
        {
          "output_type": "execute_result",
          "data": {
            "text/plain": [
              "3"
            ]
          },
          "metadata": {},
          "execution_count": 121
        }
      ],
      "source": [
        "\"Satara\".count(\"a\")"
      ]
    },
    {
      "cell_type": "code",
      "execution_count": 122,
      "metadata": {
        "colab": {
          "base_uri": "https://localhost:8080/",
          "height": 35
        },
        "id": "2YiM8NTa6sfj",
        "outputId": "4634593b-f50d-42df-dc7f-49ccedf0caef"
      },
      "outputs": [
        {
          "output_type": "execute_result",
          "data": {
            "text/plain": [
              "'RajRajRajRaj'"
            ],
            "application/vnd.google.colaboratory.intrinsic+json": {
              "type": "string"
            }
          },
          "metadata": {},
          "execution_count": 122
        }
      ],
      "source": [
        "name=\"Raj\"\n",
        "name*4"
      ]
    },
    {
      "cell_type": "code",
      "execution_count": 123,
      "metadata": {
        "colab": {
          "base_uri": "https://localhost:8080/"
        },
        "id": "nSrMm0dE7Itv",
        "outputId": "054fb77b-fa06-4e51-baf7-e4c608da460e"
      },
      "outputs": [
        {
          "output_type": "execute_result",
          "data": {
            "text/plain": [
              "25"
            ]
          },
          "metadata": {},
          "execution_count": 123
        }
      ],
      "source": [
        "n1=5\n",
        "n1*5\n"
      ]
    },
    {
      "cell_type": "code",
      "execution_count": 124,
      "metadata": {
        "colab": {
          "base_uri": "https://localhost:8080/",
          "height": 35
        },
        "id": "2ENh-uAW7MmK",
        "outputId": "28d31092-eec3-4d2e-bdd3-cfe949e38c26"
      },
      "outputs": [
        {
          "output_type": "execute_result",
          "data": {
            "text/plain": [
              "'AmolDongare'"
            ],
            "application/vnd.google.colaboratory.intrinsic+json": {
              "type": "string"
            }
          },
          "metadata": {},
          "execution_count": 124
        }
      ],
      "source": [
        "name=\"Amol\"\n",
        "surname=\"Dongare\"\n",
        "name + surname # concatenates without space"
      ]
    },
    {
      "cell_type": "code",
      "execution_count": 125,
      "metadata": {
        "colab": {
          "base_uri": "https://localhost:8080/",
          "height": 35
        },
        "id": "69kHteTE7oPq",
        "outputId": "a2769a64-f37c-496a-fde9-02393fc31399"
      },
      "outputs": [
        {
          "output_type": "execute_result",
          "data": {
            "text/plain": [
              "'Amol Dongare'"
            ],
            "application/vnd.google.colaboratory.intrinsic+json": {
              "type": "string"
            }
          },
          "metadata": {},
          "execution_count": 125
        }
      ],
      "source": [
        "name + \" \" +surname"
      ]
    },
    {
      "cell_type": "code",
      "execution_count": 126,
      "metadata": {
        "colab": {
          "base_uri": "https://localhost:8080/"
        },
        "id": "5g9qMtoGR6uy",
        "outputId": "13898da2-2ecb-4310-876b-9d4909aca52f"
      },
      "outputs": [
        {
          "output_type": "stream",
          "name": "stdout",
          "text": [
            "a is greater\n",
            "In True block\n",
            "50\n"
          ]
        }
      ],
      "source": [
        "# Conditional Statement\n",
        "a=30\n",
        "b=20\n",
        "if a>b:\n",
        "  print(\"a is greater\")\n",
        "  print(\"In True block\")\n",
        "  c=a+b\n",
        "  print(c)\n",
        "else:\n",
        "  print('b is greater')\n",
        "  print(\"In False block\")\n",
        "  c=a*b\n",
        "  print(c)\n"
      ]
    },
    {
      "cell_type": "code",
      "execution_count": 127,
      "metadata": {
        "colab": {
          "base_uri": "https://localhost:8080/"
        },
        "id": "GB9FUERJSYgg",
        "outputId": "520c6c22-8b43-44f5-b5e8-c8476fb5e523"
      },
      "outputs": [
        {
          "output_type": "stream",
          "name": "stdout",
          "text": [
            "200 is greater\n"
          ]
        }
      ],
      "source": [
        "a=200\n",
        "b=30\n",
        "if(a>b):\n",
        "  print(a,\"is greater\")\n",
        "else:\n",
        "  print(\"Greatest number is:\",b)"
      ]
    },
    {
      "cell_type": "code",
      "execution_count": 128,
      "metadata": {
        "colab": {
          "base_uri": "https://localhost:8080/"
        },
        "id": "-2JSOKqj77DF",
        "outputId": "56675fd2-213e-463f-c62d-8c9ac8020ac0"
      },
      "outputs": [
        {
          "output_type": "stream",
          "name": "stdout",
          "text": [
            "Hello from false if / else\n",
            "Bye... outside of if block\n",
            "Net Salary= 12000.0\n"
          ]
        }
      ],
      "source": [
        "salary=15000\n",
        "if (salary>20000):\n",
        "  tax=0.25\n",
        "  print(\"Hello from true if\")\n",
        "else:\n",
        "  tax=0.20\n",
        "  print(\"Hello from false if / else\")\n",
        "print(\"Bye... outside of if block\")\n",
        "net_sal=salary-tax*salary\n",
        "print(\"Net Salary=\",net_sal)\n",
        "# change value of salary as 15000 and execute again"
      ]
    },
    {
      "cell_type": "code",
      "execution_count": 129,
      "metadata": {
        "colab": {
          "base_uri": "https://localhost:8080/"
        },
        "id": "vlwF6ANR9h7t",
        "outputId": "992e2e9c-f9d6-4f0f-a62e-170372fd1f14"
      },
      "outputs": [
        {
          "output_type": "execute_result",
          "data": {
            "text/plain": [
              "range(5, 10)"
            ]
          },
          "metadata": {},
          "execution_count": 129
        }
      ],
      "source": [
        "range(5,10)"
      ]
    },
    {
      "cell_type": "code",
      "execution_count": 130,
      "metadata": {
        "colab": {
          "base_uri": "https://localhost:8080/"
        },
        "id": "_dTWloVL96w3",
        "outputId": "30cee16e-fa0b-416b-a3bc-5d2625245cb4"
      },
      "outputs": [
        {
          "output_type": "stream",
          "name": "stdout",
          "text": [
            "5\n",
            "6\n",
            "7\n",
            "8\n",
            "9\n",
            "Bye\n"
          ]
        }
      ],
      "source": [
        "# For Loop\n",
        "for number in range(5,10): # Print numbers from 5 to 9. Default increment is 1.\n",
        "  print(number)\n",
        "print(\"Bye\")"
      ]
    },
    {
      "cell_type": "code",
      "execution_count": 131,
      "metadata": {
        "id": "anLYKM0SGzpT",
        "colab": {
          "base_uri": "https://localhost:8080/"
        },
        "outputId": "3b159546-5830-4327-c022-63ee02aa1291"
      },
      "outputs": [
        {
          "output_type": "stream",
          "name": "stdout",
          "text": [
            "1\n",
            "2\n",
            "3\n",
            "4\n",
            "5\n",
            "6\n",
            "7\n",
            "8\n",
            "9\n",
            "10\n"
          ]
        }
      ],
      "source": [
        "# print numbers 1 to 10\n",
        "\n",
        "\n",
        "for i in range(1,11,1):\n",
        "  print(i)\n"
      ]
    },
    {
      "cell_type": "code",
      "execution_count": 132,
      "metadata": {
        "id": "X3s787C2HF1x"
      },
      "outputs": [],
      "source": [
        "# Q1. print all even numbers from 1 to 20\n",
        "# Q2. print all odd numbers from 1 to 20"
      ]
    },
    {
      "cell_type": "code",
      "execution_count": 133,
      "metadata": {
        "id": "ASOWNvniIME1",
        "colab": {
          "base_uri": "https://localhost:8080/"
        },
        "outputId": "fbed0f47-f0f5-4b3f-d4d0-993ec592adf8"
      },
      "outputs": [
        {
          "output_type": "stream",
          "name": "stdout",
          "text": [
            "1\n",
            "2\n",
            "3\n",
            "4\n",
            "Same\n"
          ]
        }
      ],
      "source": [
        "# 'break' statement terminates the loop when condition is satisfied\n",
        "for i in range(1,11):\n",
        "    if i==5:\n",
        "       print(\"Same\")\n",
        "       break\n",
        "    else:\n",
        "        print(i)"
      ]
    },
    {
      "cell_type": "code",
      "execution_count": 134,
      "metadata": {
        "id": "xruOl41a-BbG",
        "colab": {
          "base_uri": "https://localhost:8080/"
        },
        "outputId": "80b16997-4f43-4fc4-8c1a-4429bc50598e"
      },
      "outputs": [
        {
          "output_type": "stream",
          "name": "stdout",
          "text": [
            "0 0\n",
            "1 1\n",
            "2 4\n",
            "3 9\n",
            "4 16\n",
            "5 25\n",
            "6 36\n",
            "7 49\n",
            "8 64\n",
            "9 81\n",
            "10 100\n"
          ]
        }
      ],
      "source": [
        "for num in range(11): # 0 to 9\n",
        "  print(num, num*num) # num and its square"
      ]
    },
    {
      "cell_type": "code",
      "execution_count": 135,
      "metadata": {
        "colab": {
          "base_uri": "https://localhost:8080/"
        },
        "id": "F2iKroYZ-QnZ",
        "outputId": "b493433e-aff0-4fd4-c461-e58a2d98e08b"
      },
      "outputs": [
        {
          "output_type": "stream",
          "name": "stdout",
          "text": [
            "1 @\n",
            "6 @\n",
            "11 @\n",
            "16 @\n",
            "21 @\n",
            "26 @\n"
          ]
        }
      ],
      "source": [
        "# range(start,stop,step)\n",
        "for i in range(1,30,5):\n",
        "  # print(i)\n",
        "  print(i,\"@\")\n"
      ]
    },
    {
      "cell_type": "code",
      "execution_count": 136,
      "metadata": {
        "id": "asipEjW3_DRW",
        "colab": {
          "base_uri": "https://localhost:8080/"
        },
        "outputId": "85500192-2988-4919-afef-0e67372126dc"
      },
      "outputs": [
        {
          "output_type": "stream",
          "name": "stdout",
          "text": [
            "S\n",
            "c\n",
            "i\n",
            "e\n",
            "n\n",
            "c\n",
            "e\n"
          ]
        }
      ],
      "source": [
        "subject=\"Science\"\n",
        "for letter in subject:\n",
        "  print(letter)"
      ]
    },
    {
      "cell_type": "code",
      "execution_count": 137,
      "metadata": {
        "colab": {
          "base_uri": "https://localhost:8080/"
        },
        "id": "-N2x0Mu0_fQJ",
        "outputId": "520aae9c-87fc-4a89-d817-f0895f436933"
      },
      "outputs": [
        {
          "output_type": "stream",
          "name": "stdout",
          "text": [
            "SnehalSnehalSnehal\n",
            "SnehalSnehalSnehalSnehal\n",
            "SnehalSnehalSnehalSnehalSnehal\n",
            "SnehalSnehalSnehalSnehalSnehalSnehal\n"
          ]
        }
      ],
      "source": [
        "# print name 3 times on first line, 4 times on 2nd, 5 - 3rd, 6 - 4th line. Range(3,7)\n",
        "\n",
        "name=\"Snehal\"\n",
        "for i in range(3,7):\n",
        "  print(name*i)"
      ]
    },
    {
      "cell_type": "code",
      "source": [
        "# print each letter of movie on separate line\n",
        "# change case of each letter (upper to small and small to upper) of movie on single line with seperator ~\n",
        "movie=\"Drishyam\"\n",
        "for letter in movie:\n",
        "  #print(letter)\n",
        "  #print(letter.swapcase())\n",
        "  print(letter.swapcase(),end=\" # \") #try upper(), lower(),\"-\",\"#\",etc. Default end parameter is 'new line'"
      ],
      "metadata": {
        "id": "Ya5qsokpokth",
        "colab": {
          "base_uri": "https://localhost:8080/"
        },
        "outputId": "7d873648-67fe-4856-debf-520ce6869562"
      },
      "execution_count": 138,
      "outputs": [
        {
          "output_type": "stream",
          "name": "stdout",
          "text": [
            "d # R # I # S # H # Y # A # M # "
          ]
        }
      ]
    },
    {
      "cell_type": "code",
      "execution_count": 139,
      "metadata": {
        "id": "CyN5yrtWAvwx",
        "colab": {
          "base_uri": "https://localhost:8080/"
        },
        "outputId": "79f1a432-7fa8-4a54-dc3b-07c9d063358b"
      },
      "outputs": [
        {
          "output_type": "stream",
          "name": "stdout",
          "text": [
            "Odd Number: 1\n",
            "Even Number: 2\n",
            "Odd Number: 3\n",
            "Even Number: 4\n",
            "Odd Number: 5\n",
            "Even Number: 6\n",
            "Odd Number: 7\n",
            "Even Number: 8\n",
            "Odd Number: 9\n",
            "Even Number: 10\n"
          ]
        }
      ],
      "source": [
        "# Print all even and odd numbers between given range using For Loop\n",
        "for i in range(1, 11):\n",
        "    if i % 2 == 0:\n",
        "        print('Even Number:', i)\n",
        "    else:\n",
        "        print('Odd Number:', i)"
      ]
    },
    {
      "cell_type": "code",
      "execution_count": 140,
      "metadata": {
        "id": "TJ3NKyiu3uYe",
        "colab": {
          "base_uri": "https://localhost:8080/"
        },
        "outputId": "ae7961e2-6f9c-4fa5-8c1a-1a1f182a6e88"
      },
      "outputs": [
        {
          "output_type": "stream",
          "name": "stdout",
          "text": [
            "Even Numbers:\n",
            "2\n",
            "4\n",
            "6\n",
            "8\n",
            "10\n",
            "Odd Numbers:\n",
            "1\n",
            "3\n",
            "5\n",
            "7\n",
            "9\n"
          ]
        }
      ],
      "source": [
        "# Print all even and odd numbers between given range using For Loop\n",
        "print('Even Numbers:')\n",
        "for i in range(1, 11):\n",
        "  if i % 2 == 0:\n",
        "    print(i)\n",
        "\n",
        "print('Odd Numbers:')\n",
        "for i in range(1,11):\n",
        "  if i%2!=0: # != not equal to\n",
        "    print(i)"
      ]
    },
    {
      "cell_type": "code",
      "execution_count": 141,
      "metadata": {
        "colab": {
          "base_uri": "https://localhost:8080/"
        },
        "id": "lWdddDA_0XWJ",
        "outputId": "c1d01d0b-3b45-4c13-d795-61c6ef55c917"
      },
      "outputs": [
        {
          "output_type": "execute_result",
          "data": {
            "text/plain": [
              "bool"
            ]
          },
          "metadata": {},
          "execution_count": 141
        }
      ],
      "source": [
        "status1=True\n",
        "type(status1)\n",
        "status2=False\n",
        "type(status2)"
      ]
    },
    {
      "cell_type": "code",
      "execution_count": 142,
      "metadata": {
        "colab": {
          "base_uri": "https://localhost:8080/"
        },
        "id": "HXI8hvEt0vuX",
        "outputId": "2b54e6a9-efad-4ee4-f4f5-9f9e72fefcdf"
      },
      "outputs": [
        {
          "output_type": "stream",
          "name": "stdout",
          "text": [
            "DDDD aaaa tttt aaaa      SSSS cccc iiii eeee nnnn cccc eeee "
          ]
        }
      ],
      "source": [
        "# print each letter 4 times with separator as space\n",
        "for letter in \"Data Science\":\n",
        "  print(letter*4,end=\" \")"
      ]
    },
    {
      "cell_type": "code",
      "execution_count": 143,
      "metadata": {
        "colab": {
          "base_uri": "https://localhost:8080/"
        },
        "id": "kuMFQ7ZTBTxu",
        "outputId": "fde7bc88-0f4b-44a4-c3db-ea94b78e0ef0"
      },
      "outputs": [
        {
          "output_type": "execute_result",
          "data": {
            "text/plain": [
              "7"
            ]
          },
          "metadata": {},
          "execution_count": 143
        }
      ],
      "source": [
        "len(\"My name\")"
      ]
    },
    {
      "cell_type": "code",
      "execution_count": 144,
      "metadata": {
        "colab": {
          "base_uri": "https://localhost:8080/"
        },
        "id": "j6lbB9eFB9LJ",
        "outputId": "1c111dda-94f6-46bf-d9a6-c0425cb19212"
      },
      "outputs": [
        {
          "output_type": "execute_result",
          "data": {
            "text/plain": [
              "6"
            ]
          },
          "metadata": {},
          "execution_count": 144
        }
      ],
      "source": [
        "len(\"Snehal\")"
      ]
    },
    {
      "cell_type": "code",
      "execution_count": 145,
      "metadata": {
        "colab": {
          "base_uri": "https://localhost:8080/"
        },
        "id": "y1UE1_3m0uio",
        "outputId": "50acf311-625d-4f32-988f-b876f7824709"
      },
      "outputs": [
        {
          "output_type": "execute_result",
          "data": {
            "text/plain": [
              "[40, 55, 70, 60, 80, 85, 78]"
            ]
          },
          "metadata": {},
          "execution_count": 145
        }
      ],
      "source": [
        "# Data Structure: 1.LIST\n",
        "# Lists are mutable.\n",
        "# created using square brackets []\n",
        "marks=[40,55,70,60,80,85,78]\n",
        "marks"
      ]
    },
    {
      "cell_type": "code",
      "execution_count": 146,
      "metadata": {
        "colab": {
          "base_uri": "https://localhost:8080/"
        },
        "id": "1DTQi3Dt0tFn",
        "outputId": "b2fec849-f23c-4555-a339-a129f25fe7ba"
      },
      "outputs": [
        {
          "output_type": "execute_result",
          "data": {
            "text/plain": [
              "list"
            ]
          },
          "metadata": {},
          "execution_count": 146
        }
      ],
      "source": [
        "type(marks)"
      ]
    },
    {
      "cell_type": "code",
      "execution_count": 147,
      "metadata": {
        "colab": {
          "base_uri": "https://localhost:8080/"
        },
        "id": "Z-BbJRGEzCPo",
        "outputId": "5dd79ed3-015a-4e86-849a-531251707a59"
      },
      "outputs": [
        {
          "output_type": "execute_result",
          "data": {
            "text/plain": [
              "['__add__',\n",
              " '__class__',\n",
              " '__class_getitem__',\n",
              " '__contains__',\n",
              " '__delattr__',\n",
              " '__delitem__',\n",
              " '__dir__',\n",
              " '__doc__',\n",
              " '__eq__',\n",
              " '__format__',\n",
              " '__ge__',\n",
              " '__getattribute__',\n",
              " '__getitem__',\n",
              " '__gt__',\n",
              " '__hash__',\n",
              " '__iadd__',\n",
              " '__imul__',\n",
              " '__init__',\n",
              " '__init_subclass__',\n",
              " '__iter__',\n",
              " '__le__',\n",
              " '__len__',\n",
              " '__lt__',\n",
              " '__mul__',\n",
              " '__ne__',\n",
              " '__new__',\n",
              " '__reduce__',\n",
              " '__reduce_ex__',\n",
              " '__repr__',\n",
              " '__reversed__',\n",
              " '__rmul__',\n",
              " '__setattr__',\n",
              " '__setitem__',\n",
              " '__sizeof__',\n",
              " '__str__',\n",
              " '__subclasshook__',\n",
              " 'append',\n",
              " 'clear',\n",
              " 'copy',\n",
              " 'count',\n",
              " 'extend',\n",
              " 'index',\n",
              " 'insert',\n",
              " 'pop',\n",
              " 'remove',\n",
              " 'reverse',\n",
              " 'sort']"
            ]
          },
          "metadata": {},
          "execution_count": 147
        }
      ],
      "source": [
        "dir(list)"
      ]
    },
    {
      "cell_type": "code",
      "execution_count": 148,
      "metadata": {
        "colab": {
          "base_uri": "https://localhost:8080/"
        },
        "id": "RM-IdBGaCewh",
        "outputId": "075534a8-df7c-4c17-c039-c0c41f90be4d"
      },
      "outputs": [
        {
          "output_type": "execute_result",
          "data": {
            "text/plain": [
              "7"
            ]
          },
          "metadata": {},
          "execution_count": 148
        }
      ],
      "source": [
        "len(marks)"
      ]
    },
    {
      "cell_type": "code",
      "execution_count": 149,
      "metadata": {
        "colab": {
          "base_uri": "https://localhost:8080/"
        },
        "id": "XOcdYzZG7tD0",
        "outputId": "90f24c1a-2b57-4fbc-d9ab-7e6c825627a0"
      },
      "outputs": [
        {
          "output_type": "execute_result",
          "data": {
            "text/plain": [
              "[40, 55, 60, 70, 78, 80, 85]"
            ]
          },
          "metadata": {},
          "execution_count": 149
        }
      ],
      "source": [
        "new_marks=sorted(marks) # creates new sorted list. Original marks list remains unchanged\n",
        "new_marks"
      ]
    },
    {
      "cell_type": "code",
      "execution_count": 150,
      "metadata": {
        "colab": {
          "base_uri": "https://localhost:8080/"
        },
        "id": "-3tK0Sdz8Egd",
        "outputId": "dedb737d-fbb7-44e5-d402-2c06bdc016a6"
      },
      "outputs": [
        {
          "output_type": "execute_result",
          "data": {
            "text/plain": [
              "[40, 55, 70, 60, 80, 85, 78]"
            ]
          },
          "metadata": {},
          "execution_count": 150
        }
      ],
      "source": [
        "marks"
      ]
    },
    {
      "cell_type": "code",
      "execution_count": 151,
      "metadata": {
        "colab": {
          "base_uri": "https://localhost:8080/"
        },
        "id": "sEsavxqT8V-g",
        "outputId": "28bc39ab-a596-49e6-8d43-97cf32a765ad"
      },
      "outputs": [
        {
          "output_type": "execute_result",
          "data": {
            "text/plain": [
              "[40, 55, 60, 70, 78, 80, 85]"
            ]
          },
          "metadata": {},
          "execution_count": 151
        }
      ],
      "source": [
        "marks.sort() # original list is sorted in ascending order by default\n",
        "marks"
      ]
    },
    {
      "cell_type": "code",
      "execution_count": 152,
      "metadata": {
        "colab": {
          "base_uri": "https://localhost:8080/",
          "height": 183
        },
        "id": "dWDWCfzJ8fkD",
        "outputId": "7115edbf-2f56-4be4-ba7c-8d747bcfe741"
      },
      "outputs": [
        {
          "output_type": "error",
          "ename": "TypeError",
          "evalue": "ignored",
          "traceback": [
            "\u001b[0;31m---------------------------------------------------------------------------\u001b[0m",
            "\u001b[0;31mTypeError\u001b[0m                                 Traceback (most recent call last)",
            "\u001b[0;32m<ipython-input-152-caf3c1d18e89>\u001b[0m in \u001b[0;36m<cell line: 1>\u001b[0;34m()\u001b[0m\n\u001b[0;32m----> 1\u001b[0;31m \u001b[0mmarks\u001b[0m\u001b[0;34m.\u001b[0m\u001b[0mappend\u001b[0m\u001b[0;34m(\u001b[0m\u001b[0;34m)\u001b[0m \u001b[0;31m# Append will add element in the last only.\u001b[0m\u001b[0;34m\u001b[0m\u001b[0;34m\u001b[0m\u001b[0m\n\u001b[0m\u001b[1;32m      2\u001b[0m \u001b[0mmarks\u001b[0m\u001b[0;34m\u001b[0m\u001b[0;34m\u001b[0m\u001b[0m\n",
            "\u001b[0;31mTypeError\u001b[0m: list.append() takes exactly one argument (0 given)"
          ]
        }
      ],
      "source": [
        "marks.append() # Append will add element in the last only.\n",
        "marks"
      ]
    },
    {
      "cell_type": "code",
      "execution_count": 153,
      "metadata": {
        "id": "7Dot9lIp8y7a"
      },
      "outputs": [],
      "source": [
        "marks.reverse()"
      ]
    },
    {
      "cell_type": "code",
      "execution_count": 154,
      "metadata": {
        "colab": {
          "base_uri": "https://localhost:8080/"
        },
        "id": "GGO4bCHV8wnI",
        "outputId": "a34ce136-889e-4975-b702-a988b1a32640"
      },
      "outputs": [
        {
          "output_type": "execute_result",
          "data": {
            "text/plain": [
              "[85, 80, 78, 70, 60, 55, 40]"
            ]
          },
          "metadata": {},
          "execution_count": 154
        }
      ],
      "source": [
        "marks"
      ]
    },
    {
      "cell_type": "code",
      "execution_count": 155,
      "metadata": {
        "id": "GO15gE3g9ene"
      },
      "outputs": [],
      "source": [
        "marks2=[42,64,50,78,87,80]"
      ]
    },
    {
      "cell_type": "code",
      "execution_count": 156,
      "metadata": {
        "colab": {
          "base_uri": "https://localhost:8080/"
        },
        "id": "e-OxK3eO9qZK",
        "outputId": "e5a42e7f-6af0-4c21-c3be-887a3f982427"
      },
      "outputs": [
        {
          "output_type": "execute_result",
          "data": {
            "text/plain": [
              "[87, 80, 78, 64, 50, 42]"
            ]
          },
          "metadata": {},
          "execution_count": 156
        }
      ],
      "source": [
        "marks2.sort(reverse=True) # sorts in descending order when reverse=True\n",
        "marks2"
      ]
    },
    {
      "cell_type": "code",
      "execution_count": 157,
      "metadata": {
        "id": "9ypiIZWy97IZ"
      },
      "outputs": [],
      "source": [
        "marks3=[40,60,50,70,80,85]\n",
        "marks3.sort(reverse=False)"
      ]
    },
    {
      "cell_type": "code",
      "execution_count": 162,
      "metadata": {
        "colab": {
          "base_uri": "https://localhost:8080/"
        },
        "id": "jdN33I8Q-Pr_",
        "outputId": "329bcf00-0d69-4c62-898a-a08f0b424e76"
      },
      "outputs": [
        {
          "output_type": "execute_result",
          "data": {
            "text/plain": [
              "[40, 50, 60, 70, 80, 85]"
            ]
          },
          "metadata": {},
          "execution_count": 162
        }
      ],
      "source": [
        "marks3"
      ]
    },
    {
      "cell_type": "code",
      "execution_count": 163,
      "metadata": {
        "colab": {
          "base_uri": "https://localhost:8080/"
        },
        "id": "V0SWXzFs-S8w",
        "outputId": "2c3a02ec-0e64-4eaa-9428-b72e0b008eed"
      },
      "outputs": [
        {
          "output_type": "execute_result",
          "data": {
            "text/plain": [
              "[85, 80, 78, 70, 60, 55, 40]"
            ]
          },
          "metadata": {},
          "execution_count": 163
        }
      ],
      "source": [
        "marks"
      ]
    },
    {
      "cell_type": "code",
      "execution_count": 164,
      "metadata": {
        "colab": {
          "base_uri": "https://localhost:8080/"
        },
        "id": "DC4zPVBEBsdO",
        "outputId": "ae29f2fa-3d17-4cbc-f793-2da25e81ab35"
      },
      "outputs": [
        {
          "output_type": "execute_result",
          "data": {
            "text/plain": [
              "False"
            ]
          },
          "metadata": {},
          "execution_count": 164
        }
      ],
      "source": [
        "90 in marks # checks whether 90 is present in list or not. IF yes returns True, else False"
      ]
    },
    {
      "cell_type": "code",
      "execution_count": 165,
      "metadata": {
        "colab": {
          "base_uri": "https://localhost:8080/"
        },
        "id": "vN4eianGBwTC",
        "outputId": "0ab9205b-e3bd-4323-ffd6-357acc97d077"
      },
      "outputs": [
        {
          "output_type": "execute_result",
          "data": {
            "text/plain": [
              "True"
            ]
          },
          "metadata": {},
          "execution_count": 165
        }
      ],
      "source": [
        "85 in marks"
      ]
    },
    {
      "cell_type": "code",
      "execution_count": 166,
      "metadata": {
        "colab": {
          "base_uri": "https://localhost:8080/"
        },
        "id": "lwJ3_iTzCdGG",
        "outputId": "c83c7c04-9855-4c9a-d705-862b1e8c9ff6"
      },
      "outputs": [
        {
          "output_type": "execute_result",
          "data": {
            "text/plain": [
              "[10, 20, 30, 40, 50, 60]"
            ]
          },
          "metadata": {},
          "execution_count": 166
        }
      ],
      "source": [
        "list1=[10,20,30]\n",
        "list2=[40,50,60]\n",
        "list1 + list2 # concatenation of two lists"
      ]
    },
    {
      "cell_type": "code",
      "execution_count": 167,
      "metadata": {
        "colab": {
          "base_uri": "https://localhost:8080/"
        },
        "id": "1LBQEUOnC0Jm",
        "outputId": "15ab9863-acdb-475c-9393-b7e8e0989448"
      },
      "outputs": [
        {
          "output_type": "execute_result",
          "data": {
            "text/plain": [
              "[10, 20, 30, 40, 50, 60, 10, 20, 30, 40, 50, 60, 10, 20, 30, 40, 50, 60]"
            ]
          },
          "metadata": {},
          "execution_count": 167
        }
      ],
      "source": [
        "(list1+list2)*3 # repeats 3 times"
      ]
    },
    {
      "cell_type": "code",
      "execution_count": 168,
      "metadata": {
        "colab": {
          "base_uri": "https://localhost:8080/"
        },
        "id": "kBVW2QOVErr5",
        "outputId": "3da35c4f-e9f0-4bc2-df4b-0cc26ee219a3"
      },
      "outputs": [
        {
          "output_type": "execute_result",
          "data": {
            "text/plain": [
              "['Mango', 'Apple', 'Banana', 'Pineapple', 'Custard Apple', 'Strawberry']"
            ]
          },
          "metadata": {},
          "execution_count": 168
        }
      ],
      "source": [
        "# List of Strings\n",
        "list3=[\"Mango\",\"Apple\",\"Banana\",\"Pineapple\",\"Custard Apple\",\"Strawberry\"]\n",
        "list3"
      ]
    },
    {
      "cell_type": "code",
      "execution_count": 169,
      "metadata": {
        "colab": {
          "base_uri": "https://localhost:8080/"
        },
        "id": "AL3rNP5qUWeV",
        "outputId": "c368baa8-6962-4ad9-d264-4b6ade3f698b"
      },
      "outputs": [
        {
          "output_type": "stream",
          "name": "stdout",
          "text": [
            "Mango Apple Banana Pineapple Castard Apple Strawberry "
          ]
        }
      ],
      "source": [
        "# Display fruits by changing case of all fruits to uppercase\n",
        "for fruit in list3:\n",
        "  #print(fruit.upper()) # in sigle line: print(fruit.upper(),end=\" \")\n",
        "  #print(fruit.upper(),end=\" \")\n",
        "  print(fruit.replace(\"u\",\"a\"), end=\" \")\n"
      ]
    },
    {
      "cell_type": "code",
      "execution_count": 170,
      "metadata": {
        "colab": {
          "base_uri": "https://localhost:8080/"
        },
        "id": "1GUY43V1UUIl",
        "outputId": "55c0e52d-782c-4286-bf9e-90673ea3277a"
      },
      "outputs": [
        {
          "output_type": "execute_result",
          "data": {
            "text/plain": [
              "['Mango', 'Apple', 'Banana', 'Pineapple', 'Custard Apple', 'Strawberry']"
            ]
          },
          "metadata": {},
          "execution_count": 170
        }
      ],
      "source": [
        "# In Python Indexing starts with 0\n",
        "list3"
      ]
    },
    {
      "cell_type": "code",
      "execution_count": 171,
      "metadata": {
        "colab": {
          "base_uri": "https://localhost:8080/",
          "height": 35
        },
        "id": "x2P9GeiCXMIa",
        "outputId": "6a3492bd-619f-48f6-8c0c-51bee436ebb8"
      },
      "outputs": [
        {
          "output_type": "execute_result",
          "data": {
            "text/plain": [
              "'Mango'"
            ],
            "application/vnd.google.colaboratory.intrinsic+json": {
              "type": "string"
            }
          },
          "metadata": {},
          "execution_count": 171
        }
      ],
      "source": [
        "list3[0]"
      ]
    },
    {
      "cell_type": "code",
      "execution_count": 172,
      "metadata": {
        "colab": {
          "base_uri": "https://localhost:8080/"
        },
        "id": "WSlB41hqAela",
        "outputId": "1fbe88ee-9bcd-463b-dd06-d64b9d97b5de"
      },
      "outputs": [
        {
          "output_type": "execute_result",
          "data": {
            "text/plain": [
              "1"
            ]
          },
          "metadata": {},
          "execution_count": 172
        }
      ],
      "source": [
        "list3.count(\"Banana\")"
      ]
    },
    {
      "cell_type": "code",
      "execution_count": 174,
      "metadata": {
        "id": "6WA4AbhbXR9m",
        "colab": {
          "base_uri": "https://localhost:8080/",
          "height": 165
        },
        "outputId": "77cfc8c7-c23a-4b49-89b4-2cedf9e17df2"
      },
      "outputs": [
        {
          "output_type": "error",
          "ename": "IndexError",
          "evalue": "ignored",
          "traceback": [
            "\u001b[0;31m---------------------------------------------------------------------------\u001b[0m",
            "\u001b[0;31mIndexError\u001b[0m                                Traceback (most recent call last)",
            "\u001b[0;32m<ipython-input-174-ae433c275bff>\u001b[0m in \u001b[0;36m<cell line: 1>\u001b[0;34m()\u001b[0m\n\u001b[0;32m----> 1\u001b[0;31m \u001b[0mlist3\u001b[0m\u001b[0;34m[\u001b[0m\u001b[0;36m6\u001b[0m\u001b[0;34m]\u001b[0m \u001b[0;31m# raise erro as index is upto 5 only (0 to 5)\u001b[0m\u001b[0;34m\u001b[0m\u001b[0;34m\u001b[0m\u001b[0m\n\u001b[0m",
            "\u001b[0;31mIndexError\u001b[0m: list index out of range"
          ]
        }
      ],
      "source": [
        "list3[6] # raise erro as index is upto 5 only (0 to 5)"
      ]
    },
    {
      "cell_type": "code",
      "execution_count": 175,
      "metadata": {
        "colab": {
          "base_uri": "https://localhost:8080/",
          "height": 35
        },
        "id": "0laOWZZZXV6W",
        "outputId": "9385a1f5-cd99-49ac-b127-d64abc317c1a"
      },
      "outputs": [
        {
          "output_type": "execute_result",
          "data": {
            "text/plain": [
              "'Strawberry'"
            ],
            "application/vnd.google.colaboratory.intrinsic+json": {
              "type": "string"
            }
          },
          "metadata": {},
          "execution_count": 175
        }
      ],
      "source": [
        "list3[5]"
      ]
    },
    {
      "cell_type": "code",
      "execution_count": 176,
      "metadata": {
        "colab": {
          "base_uri": "https://localhost:8080/"
        },
        "id": "Ov2j6ljLXZqZ",
        "outputId": "489d7160-2046-4bdf-d328-c7333e1ba5ad"
      },
      "outputs": [
        {
          "output_type": "execute_result",
          "data": {
            "text/plain": [
              "['Mango', 'Apple', 'Banana', 'Pineapple']"
            ]
          },
          "metadata": {},
          "execution_count": 176
        }
      ],
      "source": [
        "# Slicing\n",
        "list3[0:4] # 0,1,2,3"
      ]
    },
    {
      "cell_type": "code",
      "execution_count": 177,
      "metadata": {
        "colab": {
          "base_uri": "https://localhost:8080/"
        },
        "id": "I6eBALVZXlW_",
        "outputId": "c6ced851-38e1-4c4f-d135-71f3c2cd6734"
      },
      "outputs": [
        {
          "output_type": "execute_result",
          "data": {
            "text/plain": [
              "['Apple', 'Banana', 'Pineapple', 'Custard Apple', 'Strawberry']"
            ]
          },
          "metadata": {},
          "execution_count": 177
        }
      ],
      "source": [
        "# from Apple to Strawberry i.e. till end\n",
        "list3[1:]# or list3[1:6]"
      ]
    },
    {
      "cell_type": "code",
      "execution_count": 178,
      "metadata": {
        "colab": {
          "base_uri": "https://localhost:8080/"
        },
        "id": "y7YIgcYxX1FP",
        "outputId": "bb7434e4-db19-4e34-c4fc-b8e5464e3403"
      },
      "outputs": [
        {
          "output_type": "execute_result",
          "data": {
            "text/plain": [
              "['Mango', 'Apple', 'Banana', 'Pineapple']"
            ]
          },
          "metadata": {},
          "execution_count": 178
        }
      ],
      "source": [
        "# from beginning to Pinaapple\n",
        "list3[:4]"
      ]
    },
    {
      "cell_type": "code",
      "source": [
        "list3"
      ],
      "metadata": {
        "colab": {
          "base_uri": "https://localhost:8080/"
        },
        "id": "Dw4XFgPJ4dLB",
        "outputId": "af2a62f2-d328-402f-966f-2612a277997e"
      },
      "execution_count": 179,
      "outputs": [
        {
          "output_type": "execute_result",
          "data": {
            "text/plain": [
              "['Mango', 'Apple', 'Banana', 'Pineapple', 'Custard Apple', 'Strawberry']"
            ]
          },
          "metadata": {},
          "execution_count": 179
        }
      ]
    },
    {
      "cell_type": "code",
      "execution_count": 180,
      "metadata": {
        "colab": {
          "base_uri": "https://localhost:8080/",
          "height": 35
        },
        "id": "QERL4JsGYEDz",
        "outputId": "3b13684a-5b6b-41bc-9203-bcfc26b87911"
      },
      "outputs": [
        {
          "output_type": "execute_result",
          "data": {
            "text/plain": [
              "'Strawberry'"
            ],
            "application/vnd.google.colaboratory.intrinsic+json": {
              "type": "string"
            }
          },
          "metadata": {},
          "execution_count": 180
        }
      ],
      "source": [
        "# Negative indexing: -1 refers to last element\n",
        "list3[-1]"
      ]
    },
    {
      "cell_type": "code",
      "execution_count": 181,
      "metadata": {
        "colab": {
          "base_uri": "https://localhost:8080/",
          "height": 35
        },
        "id": "x7XBCS4JZRxS",
        "outputId": "15787972-e799-4b11-addb-1d67374b7370"
      },
      "outputs": [
        {
          "output_type": "execute_result",
          "data": {
            "text/plain": [
              "'Pineapple'"
            ],
            "application/vnd.google.colaboratory.intrinsic+json": {
              "type": "string"
            }
          },
          "metadata": {},
          "execution_count": 181
        }
      ],
      "source": [
        "list3[-3]"
      ]
    },
    {
      "cell_type": "code",
      "execution_count": 182,
      "metadata": {
        "colab": {
          "base_uri": "https://localhost:8080/",
          "height": 35
        },
        "id": "w9z5eUpZZaCg",
        "outputId": "593dab78-0da6-4d53-c902-8e49145cbf47"
      },
      "outputs": [
        {
          "output_type": "execute_result",
          "data": {
            "text/plain": [
              "'Mango'"
            ],
            "application/vnd.google.colaboratory.intrinsic+json": {
              "type": "string"
            }
          },
          "metadata": {},
          "execution_count": 182
        }
      ],
      "source": [
        "list3[-6]"
      ]
    },
    {
      "cell_type": "code",
      "execution_count": 183,
      "metadata": {
        "colab": {
          "base_uri": "https://localhost:8080/"
        },
        "id": "Tz1VKgvtZdLm",
        "outputId": "7601ab20-ddd9-44c9-aa1d-58051a96e38a"
      },
      "outputs": [
        {
          "output_type": "stream",
          "name": "stdout",
          "text": [
            "['Mango', 'Apple', 'Banana', 'Pineapple', 'Custard Apple', 'Strawberry']\n"
          ]
        },
        {
          "output_type": "execute_result",
          "data": {
            "text/plain": [
              "['Mango', 'Banana', 'Custard Apple']"
            ]
          },
          "metadata": {},
          "execution_count": 183
        }
      ],
      "source": [
        "# start stop step in slicing\n",
        "print(list3)\n",
        "list3[::2] # 0,2,4,6"
      ]
    },
    {
      "cell_type": "code",
      "execution_count": 184,
      "metadata": {
        "colab": {
          "base_uri": "https://localhost:8080/",
          "height": 130
        },
        "id": "LUEYKQ2CZ9cR",
        "outputId": "5c1596c7-70cf-45c3-8aa3-ef12e29d1c5a"
      },
      "outputs": [
        {
          "output_type": "error",
          "ename": "SyntaxError",
          "evalue": "ignored",
          "traceback": [
            "\u001b[0;36m  File \u001b[0;32m\"<ipython-input-184-3da6388c3a68>\"\u001b[0;36m, line \u001b[0;32m1\u001b[0m\n\u001b[0;31m    n1=[1:31] # to create list of 1 to 30 - will raise error\u001b[0m\n\u001b[0m         ^\u001b[0m\n\u001b[0;31mSyntaxError\u001b[0m\u001b[0;31m:\u001b[0m invalid syntax\n"
          ]
        }
      ],
      "source": [
        "n1=[1:31] # to create list of 1 to 30 - will raise error"
      ]
    },
    {
      "cell_type": "code",
      "execution_count": 185,
      "metadata": {
        "colab": {
          "base_uri": "https://localhost:8080/"
        },
        "id": "T4UMw3k4Z6iQ",
        "outputId": "204e1bec-65c7-420d-e023-d32ceddf1ced"
      },
      "outputs": [
        {
          "output_type": "stream",
          "name": "stdout",
          "text": [
            "[1, 2, 3, 4, 5, 6, 7, 8, 9, 10, 11, 12, 13, 14, 15, 16, 17, 18, 19, 20, 21, 22, 23, 24, 25, 26, 27, 28, 29, 30] "
          ]
        }
      ],
      "source": [
        "n1=list(range(1,31))\n",
        "print(n1,end=\" \")"
      ]
    },
    {
      "cell_type": "code",
      "execution_count": 186,
      "metadata": {
        "colab": {
          "base_uri": "https://localhost:8080/"
        },
        "id": "vH49BFyNawVw",
        "outputId": "7abe1fe3-8ea5-4dcf-8eab-f5b30713dfc8"
      },
      "outputs": [
        {
          "output_type": "execute_result",
          "data": {
            "text/plain": [
              "[1, 5, 9, 13, 17, 21, 25, 29]"
            ]
          },
          "metadata": {},
          "execution_count": 186
        }
      ],
      "source": [
        "n1[::4]"
      ]
    },
    {
      "cell_type": "code",
      "execution_count": 187,
      "metadata": {
        "colab": {
          "base_uri": "https://localhost:8080/"
        },
        "id": "UrCkKb1JZ1as",
        "outputId": "93950980-d958-46a6-a4ff-2e202bb5de19"
      },
      "outputs": [
        {
          "output_type": "execute_result",
          "data": {
            "text/plain": [
              "[3, 8, 13, 18, 23]"
            ]
          },
          "metadata": {},
          "execution_count": 187
        }
      ],
      "source": [
        "# print nos from index 2 to 26 with step value of 5\n",
        "n1[2:27:5]"
      ]
    },
    {
      "cell_type": "code",
      "execution_count": 188,
      "metadata": {
        "colab": {
          "base_uri": "https://localhost:8080/"
        },
        "id": "UpCsfQp8cOWd",
        "outputId": "06687981-5b62-4159-8769-98a7ec6f051c"
      },
      "outputs": [
        {
          "output_type": "stream",
          "name": "stdout",
          "text": [
            "['Mango', 'Apple', 'Banana', 'Pineapple', 'Custard Apple', 'Strawberry'] "
          ]
        }
      ],
      "source": [
        "print(list3, end=\" \")\n"
      ]
    },
    {
      "cell_type": "code",
      "execution_count": 189,
      "metadata": {
        "colab": {
          "base_uri": "https://localhost:8080/"
        },
        "id": "GokpJL8dcuJT",
        "outputId": "0437dc3b-344b-4b06-f57e-72b991ca36ac"
      },
      "outputs": [
        {
          "output_type": "execute_result",
          "data": {
            "text/plain": [
              "['Strawberry', 'Custard Apple', 'Pineapple', 'Banana', 'Apple', 'Mango']"
            ]
          },
          "metadata": {},
          "execution_count": 189
        }
      ],
      "source": [
        "list3[::-1]"
      ]
    },
    {
      "cell_type": "code",
      "execution_count": 190,
      "metadata": {
        "colab": {
          "base_uri": "https://localhost:8080/"
        },
        "id": "Kej3UhFtcqtR",
        "outputId": "7b65e36c-f68e-4456-de7c-7ae0d9f5f2ae"
      },
      "outputs": [
        {
          "output_type": "execute_result",
          "data": {
            "text/plain": [
              "['Strawberry', 'Pineapple', 'Apple']"
            ]
          },
          "metadata": {},
          "execution_count": 190
        }
      ],
      "source": [
        "list3[::-2] # step value is -2"
      ]
    },
    {
      "cell_type": "code",
      "execution_count": 191,
      "metadata": {
        "colab": {
          "base_uri": "https://localhost:8080/"
        },
        "id": "OJ5eZKHuc-6N",
        "outputId": "ab92187e-3310-4182-c48c-49d246a58d8e"
      },
      "outputs": [
        {
          "output_type": "execute_result",
          "data": {
            "text/plain": [
              "True"
            ]
          },
          "metadata": {},
          "execution_count": 191
        }
      ],
      "source": [
        "# use of 'in' keyword: search substring in given word\n",
        "'the' in 'Netherland'"
      ]
    },
    {
      "cell_type": "code",
      "execution_count": 192,
      "metadata": {
        "colab": {
          "base_uri": "https://localhost:8080/"
        },
        "id": "IU5Ee08ddWRN",
        "outputId": "d0ebf7df-cb29-4ef7-9233-1427827eea3c"
      },
      "outputs": [
        {
          "output_type": "execute_result",
          "data": {
            "text/plain": [
              "False"
            ]
          },
          "metadata": {},
          "execution_count": 192
        }
      ],
      "source": [
        "'The' in 'Netherland'"
      ]
    },
    {
      "cell_type": "code",
      "execution_count": 193,
      "metadata": {
        "colab": {
          "base_uri": "https://localhost:8080/"
        },
        "id": "nEcpm867djRP",
        "outputId": "0da77c48-ee55-41c8-efb9-b0bfc458adcd"
      },
      "outputs": [
        {
          "output_type": "execute_result",
          "data": {
            "text/plain": [
              "False"
            ]
          },
          "metadata": {},
          "execution_count": 193
        }
      ],
      "source": [
        "'therer' in 'Netherland'"
      ]
    },
    {
      "cell_type": "code",
      "execution_count": 194,
      "metadata": {
        "id": "vNGiEudpGx6t",
        "colab": {
          "base_uri": "https://localhost:8080/"
        },
        "outputId": "1f8c0d9f-fe43-4ae0-cbc1-aab645a9e534"
      },
      "outputs": [
        {
          "output_type": "execute_result",
          "data": {
            "text/plain": [
              "['Mango', 'Apple', 'Banana', 'Pineapple', 'Custard Apple', 'Strawberry']"
            ]
          },
          "metadata": {},
          "execution_count": 194
        }
      ],
      "source": [
        "list3"
      ]
    },
    {
      "cell_type": "code",
      "execution_count": 195,
      "metadata": {
        "id": "u6srYCcIdqJ2"
      },
      "outputs": [],
      "source": [
        "list3.append(\"Mulberry\")"
      ]
    },
    {
      "cell_type": "code",
      "execution_count": 196,
      "metadata": {
        "colab": {
          "base_uri": "https://localhost:8080/"
        },
        "id": "5-7_5S7ueVqB",
        "outputId": "3217efb5-3edf-494e-f197-f91a99c2ca61"
      },
      "outputs": [
        {
          "output_type": "execute_result",
          "data": {
            "text/plain": [
              "['Mango',\n",
              " 'Apple',\n",
              " 'Banana',\n",
              " 'Pineapple',\n",
              " 'Custard Apple',\n",
              " 'Strawberry',\n",
              " 'Mulberry']"
            ]
          },
          "metadata": {},
          "execution_count": 196
        }
      ],
      "source": [
        "list3"
      ]
    },
    {
      "cell_type": "code",
      "source": [
        "list3.remove(\"Mulberry\") # removes mentioned element"
      ],
      "metadata": {
        "id": "U-Yf415Ny1rK"
      },
      "execution_count": 197,
      "outputs": []
    },
    {
      "cell_type": "code",
      "execution_count": 198,
      "metadata": {
        "colab": {
          "base_uri": "https://localhost:8080/"
        },
        "id": "R0zZp8HfeW-e",
        "outputId": "ecee554c-1089-498d-f07f-df0ee6d8a6a9"
      },
      "outputs": [
        {
          "output_type": "stream",
          "name": "stdout",
          "text": [
            "Strawberry\n"
          ]
        }
      ],
      "source": [
        "# display fruits which contain substring as 'berry' using for loop\n",
        "for fruit in list3:\n",
        "  if 'berry' in fruit:\n",
        "    print(fruit)"
      ]
    },
    {
      "cell_type": "code",
      "execution_count": 199,
      "metadata": {
        "colab": {
          "base_uri": "https://localhost:8080/"
        },
        "id": "1i7vB6yYfKxZ",
        "outputId": "b30cfd92-1545-42c2-b7de-d9716795c398"
      },
      "outputs": [
        {
          "output_type": "stream",
          "name": "stdout",
          "text": [
            "Apple\n",
            "Pineapple\n",
            "Custard Apple\n"
          ]
        }
      ],
      "source": [
        "# display fruits which contain substring as 'pple' using for loop\n",
        "for fruit in list3:\n",
        "  if 'pple' in fruit:\n",
        "    print(fruit)"
      ]
    },
    {
      "cell_type": "code",
      "execution_count": 200,
      "metadata": {
        "id": "5qIfPsvPfHNf"
      },
      "outputs": [],
      "source": [
        "list3.append(\"Black berry\")"
      ]
    },
    {
      "cell_type": "code",
      "execution_count": 201,
      "metadata": {
        "colab": {
          "base_uri": "https://localhost:8080/"
        },
        "id": "MW7mGJk7enpN",
        "outputId": "fc5e6ae5-01da-439e-c53d-bc7afb1e5bf5"
      },
      "outputs": [
        {
          "output_type": "execute_result",
          "data": {
            "text/plain": [
              "['Mango',\n",
              " 'Apple',\n",
              " 'Banana',\n",
              " 'Pineapple',\n",
              " 'Custard Apple',\n",
              " 'Strawberry',\n",
              " 'Black berry']"
            ]
          },
          "metadata": {},
          "execution_count": 201
        }
      ],
      "source": [
        "list3"
      ]
    },
    {
      "cell_type": "code",
      "execution_count": 202,
      "metadata": {
        "colab": {
          "base_uri": "https://localhost:8080/"
        },
        "id": "xIV38s0lf0EQ",
        "outputId": "5b2044f6-dd5c-44bb-9d75-8567b84cfe42"
      },
      "outputs": [
        {
          "output_type": "stream",
          "name": "stdout",
          "text": [
            "['Strawberry', 'Black berry'] ['Mango', 'Apple', 'Banana', 'Pineapple', 'Custard Apple'] "
          ]
        }
      ],
      "source": [
        "# Create list4 of fruits from list3 having only 'berry' as substring and store remaining fruits in list5\n",
        "list4=[]\n",
        "list5=[]\n",
        "for fruit in list3:\n",
        "  if 'berry' in fruit:\n",
        "    list4.append(fruit)\n",
        "  else:\n",
        "    list5.append(fruit)\n",
        "print(list4,end=\" \")\n",
        "print(list5,end=\" \")"
      ]
    },
    {
      "cell_type": "code",
      "execution_count": 203,
      "metadata": {
        "colab": {
          "base_uri": "https://localhost:8080/"
        },
        "id": "PEiZbu43ekl6",
        "outputId": "8df20755-3db5-4a5c-a2ef-4dfba3035f61"
      },
      "outputs": [
        {
          "output_type": "stream",
          "name": "stdout",
          "text": [
            "[2, 3, 4, 5, 6] [4, 9, 16, 25, 36] "
          ]
        }
      ],
      "source": [
        "# print squares of all numbers of list1 to list2\n",
        "l1=[2,3,4,5,6]\n",
        "l2=[]\n",
        "for i in l1:\n",
        "  l2.append(i**2) # OR l2.append(i*i)\n",
        "print(l1,end=\" \")\n",
        "print(l2,end=\" \")"
      ]
    },
    {
      "cell_type": "code",
      "execution_count": 204,
      "metadata": {
        "colab": {
          "base_uri": "https://localhost:8080/"
        },
        "id": "61IYUBgkjkjY",
        "outputId": "d2a97c60-617a-47a5-b68a-dba43986acf8"
      },
      "outputs": [
        {
          "output_type": "stream",
          "name": "stdout",
          "text": [
            "[2, 3, 4, 5, 6] [4, 9, 16, 25, 36] "
          ]
        }
      ],
      "source": [
        "# List comprehension - makes your code compact\n",
        "l1=[2,3,4,5,6]\n",
        "l2=[i**2 for i in l1]\n",
        "print(l1,end=\" \")\n",
        "print(l2,end=\" \")"
      ]
    },
    {
      "cell_type": "code",
      "execution_count": 205,
      "metadata": {
        "id": "rX-2WBZSA3Ih"
      },
      "outputs": [],
      "source": [
        "list3\n",
        "list3.append(\"Black berry\")"
      ]
    },
    {
      "cell_type": "code",
      "execution_count": 206,
      "metadata": {
        "colab": {
          "base_uri": "https://localhost:8080/"
        },
        "id": "qnve8eWalJrv",
        "outputId": "bcabd3bc-c982-4287-a473-c75b0f48375e"
      },
      "outputs": [
        {
          "output_type": "execute_result",
          "data": {
            "text/plain": [
              "['Mango',\n",
              " 'Apple',\n",
              " 'Banana',\n",
              " 'Pineapple',\n",
              " 'Custard Apple',\n",
              " 'Strawberry',\n",
              " 'Black berry',\n",
              " 'Black berry']"
            ]
          },
          "metadata": {},
          "execution_count": 206
        }
      ],
      "source": [
        "# extract fruit names containing substring 'berry' using List comprehension\n",
        "list3"
      ]
    },
    {
      "cell_type": "code",
      "execution_count": 207,
      "metadata": {
        "id": "vnd_eAJDlfxr"
      },
      "outputs": [],
      "source": [
        "newlist=[fruit for fruit in list3 if 'berry' in fruit]"
      ]
    },
    {
      "cell_type": "code",
      "execution_count": 208,
      "metadata": {
        "colab": {
          "base_uri": "https://localhost:8080/"
        },
        "id": "M9qF_R8b1o4H",
        "outputId": "12c5562a-6869-4a54-b772-69b4fbb29d73"
      },
      "outputs": [
        {
          "output_type": "stream",
          "name": "stdout",
          "text": [
            "['Strawberry', 'Black berry', 'Black berry'] "
          ]
        }
      ],
      "source": [
        "print(newlist, end=\" \")"
      ]
    },
    {
      "cell_type": "code",
      "execution_count": 209,
      "metadata": {
        "id": "hW0X5-MNlF52"
      },
      "outputs": [],
      "source": [
        "newlist1=[fruit for fruit in list3 if 'berry' not in fruit]"
      ]
    },
    {
      "cell_type": "code",
      "execution_count": 210,
      "metadata": {
        "colab": {
          "base_uri": "https://localhost:8080/"
        },
        "id": "qVQfzwqG2_Dl",
        "outputId": "37ed66d8-7471-4a80-bbe6-78e3be92e34e"
      },
      "outputs": [
        {
          "output_type": "execute_result",
          "data": {
            "text/plain": [
              "['Mango', 'Apple', 'Banana', 'Pineapple', 'Custard Apple']"
            ]
          },
          "metadata": {},
          "execution_count": 210
        }
      ],
      "source": [
        "newlist1"
      ]
    },
    {
      "cell_type": "code",
      "execution_count": 211,
      "metadata": {
        "colab": {
          "base_uri": "https://localhost:8080/"
        },
        "id": "N_6DYeMm3ai0",
        "outputId": "221651ed-38df-4979-9663-8c6617ea46de"
      },
      "outputs": [
        {
          "output_type": "execute_result",
          "data": {
            "text/plain": [
              "['Mango',\n",
              " 'Apple',\n",
              " 'Banana',\n",
              " 'Pineapple',\n",
              " 'Custard Apple',\n",
              " 'Strawberry',\n",
              " 'Black berry',\n",
              " 'Black berry']"
            ]
          },
          "metadata": {},
          "execution_count": 211
        }
      ],
      "source": [
        "list3"
      ]
    },
    {
      "cell_type": "code",
      "execution_count": 212,
      "metadata": {
        "colab": {
          "base_uri": "https://localhost:8080/"
        },
        "id": "Li3-y6rx3dwT",
        "outputId": "e10a30c9-0db7-40ea-8589-958304f5ac52"
      },
      "outputs": [
        {
          "output_type": "execute_result",
          "data": {
            "text/plain": [
              "0"
            ]
          },
          "metadata": {},
          "execution_count": 212
        }
      ],
      "source": [
        "list3.index('Mango')"
      ]
    },
    {
      "cell_type": "code",
      "execution_count": 213,
      "metadata": {
        "colab": {
          "base_uri": "https://localhost:8080/"
        },
        "id": "APfx0HAZ4jt6",
        "outputId": "8ed2d161-518a-418a-db3f-c02b3a4df61a"
      },
      "outputs": [
        {
          "output_type": "execute_result",
          "data": {
            "text/plain": [
              "6"
            ]
          },
          "metadata": {},
          "execution_count": 213
        }
      ],
      "source": [
        "list3.index('Black berry')"
      ]
    },
    {
      "cell_type": "code",
      "execution_count": 214,
      "metadata": {
        "id": "aFp1u4Ur4tbH",
        "colab": {
          "base_uri": "https://localhost:8080/",
          "height": 165
        },
        "outputId": "893b00b0-a266-4680-b0e6-86a3b88a9271"
      },
      "outputs": [
        {
          "output_type": "error",
          "ename": "ValueError",
          "evalue": "ignored",
          "traceback": [
            "\u001b[0;31m---------------------------------------------------------------------------\u001b[0m",
            "\u001b[0;31mValueError\u001b[0m                                Traceback (most recent call last)",
            "\u001b[0;32m<ipython-input-214-4baf18b3f385>\u001b[0m in \u001b[0;36m<cell line: 1>\u001b[0;34m()\u001b[0m\n\u001b[0;32m----> 1\u001b[0;31m \u001b[0mlist3\u001b[0m\u001b[0;34m.\u001b[0m\u001b[0mindex\u001b[0m\u001b[0;34m(\u001b[0m\u001b[0;34m'Orange'\u001b[0m\u001b[0;34m)\u001b[0m \u001b[0;31m# will raise error as item is not present in the list\u001b[0m\u001b[0;34m\u001b[0m\u001b[0;34m\u001b[0m\u001b[0m\n\u001b[0m",
            "\u001b[0;31mValueError\u001b[0m: 'Orange' is not in list"
          ]
        }
      ],
      "source": [
        "list3.index('Orange') # will raise error as item is not present in the list"
      ]
    },
    {
      "cell_type": "code",
      "execution_count": 215,
      "metadata": {
        "colab": {
          "base_uri": "https://localhost:8080/"
        },
        "id": "R8dOOEuO4yFq",
        "outputId": "2ab76bdf-e042-4bce-d8cd-091c2eb8cba0"
      },
      "outputs": [
        {
          "output_type": "execute_result",
          "data": {
            "text/plain": [
              "['Mango',\n",
              " 'Apple',\n",
              " 'Orange',\n",
              " 'Pineapple',\n",
              " 'Custard Apple',\n",
              " 'Strawberry',\n",
              " 'Black berry',\n",
              " 'Black berry']"
            ]
          },
          "metadata": {},
          "execution_count": 215
        }
      ],
      "source": [
        "# index 2 item was banana which is replaced by Orange\n",
        "# Lists are mutable - you can replace items of list\n",
        "list3[2]=\"Orange\"\n",
        "list3"
      ]
    },
    {
      "cell_type": "code",
      "execution_count": 216,
      "metadata": {
        "colab": {
          "base_uri": "https://localhost:8080/"
        },
        "id": "XbF8Y7lL5JAL",
        "outputId": "fd70abc3-b1d5-41ba-d757-57c97a1ebce0"
      },
      "outputs": [
        {
          "output_type": "execute_result",
          "data": {
            "text/plain": [
              "(1, 2, 3, 4, 5)"
            ]
          },
          "metadata": {},
          "execution_count": 216
        }
      ],
      "source": [
        "# Data Structure: 2.TUPLE\n",
        "# Tuples are not mutable i.e. immutable\n",
        "# created using round brackets ()\n",
        "t1=(1,2,3,4,5)\n",
        "t1"
      ]
    },
    {
      "cell_type": "code",
      "execution_count": 217,
      "metadata": {
        "colab": {
          "base_uri": "https://localhost:8080/"
        },
        "id": "Xp2nKkmU6sQs",
        "outputId": "1c162493-c7bf-4def-f618-8b173f318768"
      },
      "outputs": [
        {
          "output_type": "execute_result",
          "data": {
            "text/plain": [
              "tuple"
            ]
          },
          "metadata": {},
          "execution_count": 217
        }
      ],
      "source": [
        "type(t1)"
      ]
    },
    {
      "cell_type": "code",
      "execution_count": 218,
      "metadata": {
        "colab": {
          "base_uri": "https://localhost:8080/"
        },
        "id": "-eFR4gnk6t9e",
        "outputId": "8e02620d-6c9e-44b8-8ac7-2fe6c7b7dc0b"
      },
      "outputs": [
        {
          "output_type": "execute_result",
          "data": {
            "text/plain": [
              "1"
            ]
          },
          "metadata": {},
          "execution_count": 218
        }
      ],
      "source": [
        "t1[0]"
      ]
    },
    {
      "cell_type": "code",
      "source": [
        "t3=t1 + (6,7,8,9,10)"
      ],
      "metadata": {
        "id": "TL88JA__-f5Y"
      },
      "execution_count": 220,
      "outputs": []
    },
    {
      "cell_type": "code",
      "source": [
        "t3"
      ],
      "metadata": {
        "colab": {
          "base_uri": "https://localhost:8080/"
        },
        "id": "VxbS1rWQ-5cq",
        "outputId": "05063558-dd16-4caa-a0ac-694d8487836a"
      },
      "execution_count": 221,
      "outputs": [
        {
          "output_type": "execute_result",
          "data": {
            "text/plain": [
              "(1, 2, 3, 4, 5, 6, 7, 8, 9, 10)"
            ]
          },
          "metadata": {},
          "execution_count": 221
        }
      ]
    },
    {
      "cell_type": "code",
      "execution_count": 222,
      "metadata": {
        "id": "gJYlfk5861Ft",
        "colab": {
          "base_uri": "https://localhost:8080/"
        },
        "outputId": "d065fe20-0cf5-433d-d066-9b2c9f53c7c5"
      },
      "outputs": [
        {
          "output_type": "execute_result",
          "data": {
            "text/plain": [
              "['__add__',\n",
              " '__class__',\n",
              " '__class_getitem__',\n",
              " '__contains__',\n",
              " '__delattr__',\n",
              " '__dir__',\n",
              " '__doc__',\n",
              " '__eq__',\n",
              " '__format__',\n",
              " '__ge__',\n",
              " '__getattribute__',\n",
              " '__getitem__',\n",
              " '__getnewargs__',\n",
              " '__gt__',\n",
              " '__hash__',\n",
              " '__init__',\n",
              " '__init_subclass__',\n",
              " '__iter__',\n",
              " '__le__',\n",
              " '__len__',\n",
              " '__lt__',\n",
              " '__mul__',\n",
              " '__ne__',\n",
              " '__new__',\n",
              " '__reduce__',\n",
              " '__reduce_ex__',\n",
              " '__repr__',\n",
              " '__rmul__',\n",
              " '__setattr__',\n",
              " '__sizeof__',\n",
              " '__str__',\n",
              " '__subclasshook__',\n",
              " 'count',\n",
              " 'index']"
            ]
          },
          "metadata": {},
          "execution_count": 222
        }
      ],
      "source": [
        "dir(t1)"
      ]
    },
    {
      "cell_type": "code",
      "execution_count": 224,
      "metadata": {
        "colab": {
          "base_uri": "https://localhost:8080/"
        },
        "id": "DRz7V1Y34nja",
        "outputId": "3cd14699-6bf5-4a7a-dab3-72ce0cc57127"
      },
      "outputs": [
        {
          "output_type": "execute_result",
          "data": {
            "text/plain": [
              "1"
            ]
          },
          "metadata": {},
          "execution_count": 224
        }
      ],
      "source": [
        "t1.count(1)"
      ]
    },
    {
      "cell_type": "code",
      "execution_count": 225,
      "metadata": {
        "colab": {
          "base_uri": "https://localhost:8080/"
        },
        "id": "8G8WMapY7nxw",
        "outputId": "11b149a8-0faf-4973-e6ca-2bbb7a317d36"
      },
      "outputs": [
        {
          "output_type": "execute_result",
          "data": {
            "text/plain": [
              "3"
            ]
          },
          "metadata": {},
          "execution_count": 225
        }
      ],
      "source": [
        "t1.index(4)"
      ]
    },
    {
      "cell_type": "code",
      "execution_count": 226,
      "metadata": {
        "id": "9FoAjOJq7qlz"
      },
      "outputs": [],
      "source": [
        "t2=(1,1,1,2,2,6,6,6,6,6)"
      ]
    },
    {
      "cell_type": "code",
      "execution_count": 227,
      "metadata": {
        "id": "juwVU_vX71VB",
        "colab": {
          "base_uri": "https://localhost:8080/"
        },
        "outputId": "0100a2b9-b408-45ef-cb18-eae57e9f5c24"
      },
      "outputs": [
        {
          "output_type": "execute_result",
          "data": {
            "text/plain": [
              "5"
            ]
          },
          "metadata": {},
          "execution_count": 227
        }
      ],
      "source": [
        "t2.count(6)"
      ]
    },
    {
      "cell_type": "code",
      "execution_count": 228,
      "metadata": {
        "id": "mB02kt4v73Bd",
        "colab": {
          "base_uri": "https://localhost:8080/"
        },
        "outputId": "cf1cfbed-66dc-4803-aa1e-c0b1276144be"
      },
      "outputs": [
        {
          "output_type": "execute_result",
          "data": {
            "text/plain": [
              "3"
            ]
          },
          "metadata": {},
          "execution_count": 228
        }
      ],
      "source": [
        "# indexing and slicing with tuple is same as list\n",
        "# extracting elements of tuple\n",
        "t1[2]"
      ]
    },
    {
      "cell_type": "code",
      "execution_count": 229,
      "metadata": {
        "colab": {
          "base_uri": "https://localhost:8080/"
        },
        "id": "9vl8CB4lFV1D",
        "outputId": "ceed6110-c013-4072-ea00-d8fc4796431b"
      },
      "outputs": [
        {
          "output_type": "execute_result",
          "data": {
            "text/plain": [
              "(1, 2, 3, 4, 5)"
            ]
          },
          "metadata": {},
          "execution_count": 229
        }
      ],
      "source": [
        "t1"
      ]
    },
    {
      "cell_type": "code",
      "execution_count": 230,
      "metadata": {
        "colab": {
          "base_uri": "https://localhost:8080/"
        },
        "id": "wYtrwBa38S4G",
        "outputId": "6d568407-2e3c-4418-dabd-de1eef22e944"
      },
      "outputs": [
        {
          "output_type": "execute_result",
          "data": {
            "text/plain": [
              "(2, 3, 4, 5)"
            ]
          },
          "metadata": {},
          "execution_count": 230
        }
      ],
      "source": [
        "t1[1:5]"
      ]
    },
    {
      "cell_type": "code",
      "execution_count": 231,
      "metadata": {
        "colab": {
          "base_uri": "https://localhost:8080/"
        },
        "id": "SRE7DEwm8Wa7",
        "outputId": "568f4880-c07e-4eb9-afca-47360eac99cf"
      },
      "outputs": [
        {
          "output_type": "stream",
          "name": "stdout",
          "text": [
            "{'Nepal': 'Kathmandu', 'Italy': 'Rome', 'England': 'London'}\n"
          ]
        }
      ],
      "source": [
        "# Data Structure: 3.Dictionary\n",
        "# Dictionaries are used to store data values in \"key:value pairs\".\n",
        "# A dictionary is a collection which is ordered, changeable and do not allow duplicates.\n",
        "# Dictionaries are written with curly brackets {\"Key\":\"Value\"}, and have keys and values.\n",
        "# Here, keys are unique identifiers that are associated with each value.:\n",
        "\n",
        "capital_dict={\"Nepal\": \"Kathmandu\", \"Italy\": \"Rome\", \"England\": \"London\"}\n",
        "print(capital_dict)"
      ]
    },
    {
      "cell_type": "code",
      "execution_count": 232,
      "metadata": {
        "colab": {
          "base_uri": "https://localhost:8080/"
        },
        "id": "9K5br31fWsBP",
        "outputId": "3bde9d1a-e814-4dad-f6bf-5eac3255d5f0"
      },
      "outputs": [
        {
          "output_type": "execute_result",
          "data": {
            "text/plain": [
              "dict"
            ]
          },
          "metadata": {},
          "execution_count": 232
        }
      ],
      "source": [
        "type(capital_dict)"
      ]
    },
    {
      "cell_type": "code",
      "execution_count": 233,
      "metadata": {
        "colab": {
          "base_uri": "https://localhost:8080/"
        },
        "id": "HajKAlS2XQJa",
        "outputId": "a5cbbfc8-ceaa-4eea-f0dd-f98e2e68b4c4"
      },
      "outputs": [
        {
          "output_type": "execute_result",
          "data": {
            "text/plain": [
              "['__class__',\n",
              " '__class_getitem__',\n",
              " '__contains__',\n",
              " '__delattr__',\n",
              " '__delitem__',\n",
              " '__dir__',\n",
              " '__doc__',\n",
              " '__eq__',\n",
              " '__format__',\n",
              " '__ge__',\n",
              " '__getattribute__',\n",
              " '__getitem__',\n",
              " '__gt__',\n",
              " '__hash__',\n",
              " '__init__',\n",
              " '__init_subclass__',\n",
              " '__ior__',\n",
              " '__iter__',\n",
              " '__le__',\n",
              " '__len__',\n",
              " '__lt__',\n",
              " '__ne__',\n",
              " '__new__',\n",
              " '__or__',\n",
              " '__reduce__',\n",
              " '__reduce_ex__',\n",
              " '__repr__',\n",
              " '__reversed__',\n",
              " '__ror__',\n",
              " '__setattr__',\n",
              " '__setitem__',\n",
              " '__sizeof__',\n",
              " '__str__',\n",
              " '__subclasshook__',\n",
              " 'clear',\n",
              " 'copy',\n",
              " 'fromkeys',\n",
              " 'get',\n",
              " 'items',\n",
              " 'keys',\n",
              " 'pop',\n",
              " 'popitem',\n",
              " 'setdefault',\n",
              " 'update',\n",
              " 'values']"
            ]
          },
          "metadata": {},
          "execution_count": 233
        }
      ],
      "source": [
        "dir(capital_dict)"
      ]
    },
    {
      "cell_type": "code",
      "execution_count": 234,
      "metadata": {
        "colab": {
          "base_uri": "https://localhost:8080/",
          "height": 35
        },
        "id": "3-IUngWH7tda",
        "outputId": "d81afa90-16d5-4e4d-eef7-2e35b41a1e8b"
      },
      "outputs": [
        {
          "output_type": "execute_result",
          "data": {
            "text/plain": [
              "'London'"
            ],
            "application/vnd.google.colaboratory.intrinsic+json": {
              "type": "string"
            }
          },
          "metadata": {},
          "execution_count": 234
        }
      ],
      "source": [
        "# access element of dictionary\n",
        "capital_dict[\"England\"]"
      ]
    },
    {
      "cell_type": "code",
      "execution_count": 235,
      "metadata": {
        "colab": {
          "base_uri": "https://localhost:8080/"
        },
        "id": "2hpTBWjF7YCN",
        "outputId": "4ae0dc33-e6de-4fad-ddeb-728c60fe3a36"
      },
      "outputs": [
        {
          "output_type": "execute_result",
          "data": {
            "text/plain": [
              "dict_keys(['Nepal', 'Italy', 'England'])"
            ]
          },
          "metadata": {},
          "execution_count": 235
        }
      ],
      "source": [
        "# keys() method extracts the keys of the dictionary and returns the list of keys as a view object.\n",
        "keys=capital_dict.keys()\n",
        "keys"
      ]
    },
    {
      "cell_type": "code",
      "execution_count": 236,
      "metadata": {
        "colab": {
          "base_uri": "https://localhost:8080/"
        },
        "id": "Gtu4Trl73idJ",
        "outputId": "8654e7f6-6586-45ad-90e4-52d143825572"
      },
      "outputs": [
        {
          "output_type": "execute_result",
          "data": {
            "text/plain": [
              "dict_keys(['Nepal', 'Italy', 'England'])"
            ]
          },
          "metadata": {},
          "execution_count": 236
        }
      ],
      "source": [
        "capital_dict.keys()"
      ]
    },
    {
      "cell_type": "code",
      "execution_count": 237,
      "metadata": {
        "colab": {
          "base_uri": "https://localhost:8080/"
        },
        "id": "wF0P6FzRYMT6",
        "outputId": "e44cd97e-2209-46de-faf3-03affa7a0d5c"
      },
      "outputs": [
        {
          "output_type": "execute_result",
          "data": {
            "text/plain": [
              "dict_values(['Kathmandu', 'Rome', 'London'])"
            ]
          },
          "metadata": {},
          "execution_count": 237
        }
      ],
      "source": [
        "# The values() method returns a view object that displays a list of all the values in the dictionary.\n",
        "values=capital_dict.values()\n",
        "values"
      ]
    },
    {
      "cell_type": "code",
      "execution_count": 238,
      "metadata": {
        "colab": {
          "base_uri": "https://localhost:8080/"
        },
        "id": "wX37zQVRYU8g",
        "outputId": "677b4a16-4b83-41c8-a800-a3c441ad90b1"
      },
      "outputs": [
        {
          "output_type": "execute_result",
          "data": {
            "text/plain": [
              "dict_items([('Nepal', 'Kathmandu'), ('Italy', 'Rome'), ('England', 'London')])"
            ]
          },
          "metadata": {},
          "execution_count": 238
        }
      ],
      "source": [
        "# The items() method returns a view object that displays a list of dictionary's (key, value) tuple pairs.\n",
        "items=capital_dict.items()\n",
        "items"
      ]
    },
    {
      "cell_type": "code",
      "execution_count": 239,
      "metadata": {
        "id": "XvBTzNlbYol1"
      },
      "outputs": [],
      "source": [
        "# The update() method updates the dictionary with the elements from another dictionary object or from an iterable of key/value pairs.\n",
        "add_capital={\"India\": \"New Delhi\",\"abc\":\"xyz\"}\n",
        "capital_dict.update(add_capital)"
      ]
    },
    {
      "cell_type": "code",
      "execution_count": 240,
      "metadata": {
        "id": "Y6GKnzNWZj1X",
        "colab": {
          "base_uri": "https://localhost:8080/"
        },
        "outputId": "436e7227-0cef-4707-b9d9-2d5688178812"
      },
      "outputs": [
        {
          "output_type": "execute_result",
          "data": {
            "text/plain": [
              "{'Nepal': 'Kathmandu',\n",
              " 'Italy': 'Rome',\n",
              " 'England': 'London',\n",
              " 'India': 'New Delhi',\n",
              " 'abc': 'xyz'}"
            ]
          },
          "metadata": {},
          "execution_count": 240
        }
      ],
      "source": [
        "capital_dict"
      ]
    },
    {
      "cell_type": "code",
      "execution_count": 241,
      "metadata": {
        "colab": {
          "base_uri": "https://localhost:8080/"
        },
        "id": "7Xw0hz3raKZF",
        "outputId": "44480948-0e87-4430-dfde-24146cdf3d38"
      },
      "outputs": [
        {
          "output_type": "execute_result",
          "data": {
            "text/plain": [
              "{'Nepal': 'Kathmandu',\n",
              " 'Italy': 'Rome',\n",
              " 'England': 'London',\n",
              " 'India': 'New Delhi',\n",
              " 'abc': 'xyz',\n",
              " 'Australia': 'Sydney'}"
            ]
          },
          "metadata": {},
          "execution_count": 241
        }
      ],
      "source": [
        "capital_dict.update({\"Australia\":\"Sydney\"}) # capital of Australia is Canberra\n",
        "capital_dict"
      ]
    },
    {
      "cell_type": "code",
      "execution_count": 242,
      "metadata": {
        "id": "GrYVepbHZn-Z",
        "colab": {
          "base_uri": "https://localhost:8080/",
          "height": 35
        },
        "outputId": "6cebd59d-a977-4770-8930-e16669a426bc"
      },
      "outputs": [
        {
          "output_type": "execute_result",
          "data": {
            "text/plain": [
              "'Sydney'"
            ],
            "application/vnd.google.colaboratory.intrinsic+json": {
              "type": "string"
            }
          },
          "metadata": {},
          "execution_count": 242
        }
      ],
      "source": [
        "# The pop() method removes and returns an element from a dictionary having the given key.\n",
        "capital_dict.pop(\"Australia\")"
      ]
    },
    {
      "cell_type": "code",
      "source": [
        "capital_dict"
      ],
      "metadata": {
        "colab": {
          "base_uri": "https://localhost:8080/"
        },
        "id": "FH9ibZWx3wBT",
        "outputId": "4f17a587-af53-427c-8703-0c5d3fb6e5d6"
      },
      "execution_count": 243,
      "outputs": [
        {
          "output_type": "execute_result",
          "data": {
            "text/plain": [
              "{'Nepal': 'Kathmandu',\n",
              " 'Italy': 'Rome',\n",
              " 'England': 'London',\n",
              " 'India': 'New Delhi',\n",
              " 'abc': 'xyz'}"
            ]
          },
          "metadata": {},
          "execution_count": 243
        }
      ]
    },
    {
      "cell_type": "code",
      "execution_count": 244,
      "metadata": {
        "id": "5bBQ17_HQLOJ"
      },
      "outputs": [],
      "source": [
        "capital_dict['abc']=(\"Mumbai\")"
      ]
    },
    {
      "cell_type": "code",
      "execution_count": 245,
      "metadata": {
        "colab": {
          "base_uri": "https://localhost:8080/"
        },
        "id": "KiV7WPLTbgZn",
        "outputId": "fd8983bd-0af7-434f-d2f5-c00eb0944192"
      },
      "outputs": [
        {
          "output_type": "execute_result",
          "data": {
            "text/plain": [
              "{'Nepal': 'Kathmandu',\n",
              " 'Italy': 'Rome',\n",
              " 'England': 'London',\n",
              " 'India': 'New Delhi',\n",
              " 'abc': 'Mumbai'}"
            ]
          },
          "metadata": {},
          "execution_count": 245
        }
      ],
      "source": [
        "capital_dict"
      ]
    },
    {
      "cell_type": "code",
      "execution_count": 246,
      "metadata": {
        "colab": {
          "base_uri": "https://localhost:8080/"
        },
        "id": "IkpWqBkWRY3C",
        "outputId": "edf732b3-0acc-41f5-dc68-e115280c1422"
      },
      "outputs": [
        {
          "output_type": "execute_result",
          "data": {
            "text/plain": [
              "('abc', 'Mumbai')"
            ]
          },
          "metadata": {},
          "execution_count": 246
        }
      ],
      "source": [
        "capital_dict.popitem()"
      ]
    },
    {
      "cell_type": "code",
      "execution_count": 247,
      "metadata": {
        "colab": {
          "base_uri": "https://localhost:8080/"
        },
        "id": "6S9VAE_CRf80",
        "outputId": "8f9284ff-a13a-4267-da54-2777197d0fe7"
      },
      "outputs": [
        {
          "output_type": "execute_result",
          "data": {
            "text/plain": [
              "{'Nepal': 'Kathmandu',\n",
              " 'Italy': 'Rome',\n",
              " 'England': 'London',\n",
              " 'India': 'New Delhi'}"
            ]
          },
          "metadata": {},
          "execution_count": 247
        }
      ],
      "source": [
        "capital_dict"
      ]
    },
    {
      "cell_type": "code",
      "execution_count": 248,
      "metadata": {
        "id": "CVhCf4KIbj6E"
      },
      "outputs": [],
      "source": [
        "# Keys can be of different data type\n",
        "mylist=[\"Mango\",\"Orange\",\"Strawberry\",\"Banana\",\"Mulberry\",\"Black berry\"]"
      ]
    },
    {
      "cell_type": "code",
      "execution_count": 249,
      "metadata": {
        "id": "Ind6hsS8cmID"
      },
      "outputs": [],
      "source": [
        "mytuple=(20,53,45,78,89,65,97)"
      ]
    },
    {
      "cell_type": "code",
      "execution_count": 250,
      "metadata": {
        "colab": {
          "base_uri": "https://localhost:8080/"
        },
        "id": "tTozy8ZLcuRd",
        "outputId": "869884b3-6c14-4996-acb3-8d8d1e035560"
      },
      "outputs": [
        {
          "output_type": "execute_result",
          "data": {
            "text/plain": [
              "{'A': ['Mango', 'Orange', 'Strawberry', 'Banana', 'Mulberry', 'Black berry'],\n",
              " 'B': (20, 53, 45, 78, 89, 65, 97),\n",
              " 'C': {'Nepal': 'Kathmandu',\n",
              "  'Italy': 'Rome',\n",
              "  'England': 'London',\n",
              "  'India': 'New Delhi'}}"
            ]
          },
          "metadata": {},
          "execution_count": 250
        }
      ],
      "source": [
        "mydict={\"A\":mylist,\n",
        "        \"B\":mytuple,\n",
        "        \"C\":capital_dict\n",
        "       }\n",
        "mydict"
      ]
    },
    {
      "cell_type": "code",
      "execution_count": 251,
      "metadata": {
        "colab": {
          "base_uri": "https://localhost:8080/"
        },
        "id": "Dl7SDJxGdEzN",
        "outputId": "f0cfcdb6-b095-41c7-f368-9ced58c83221"
      },
      "outputs": [
        {
          "output_type": "execute_result",
          "data": {
            "text/plain": [
              "['Mango', 'Orange', 'Strawberry', 'Banana', 'Mulberry', 'Black berry']"
            ]
          },
          "metadata": {},
          "execution_count": 251
        }
      ],
      "source": [
        "mydict['A']"
      ]
    },
    {
      "cell_type": "code",
      "execution_count": 252,
      "metadata": {
        "colab": {
          "base_uri": "https://localhost:8080/"
        },
        "id": "IMhZtE-3dQcJ",
        "outputId": "14a3b478-5645-4d03-d230-a79ad04f687b"
      },
      "outputs": [
        {
          "output_type": "execute_result",
          "data": {
            "text/plain": [
              "{'Nepal': 'Kathmandu',\n",
              " 'Italy': 'Rome',\n",
              " 'England': 'London',\n",
              " 'India': 'New Delhi'}"
            ]
          },
          "metadata": {},
          "execution_count": 252
        }
      ],
      "source": [
        "mydict['C']"
      ]
    },
    {
      "cell_type": "code",
      "execution_count": 253,
      "metadata": {
        "colab": {
          "base_uri": "https://localhost:8080/",
          "height": 35
        },
        "id": "PRaZYzWqdUxM",
        "outputId": "49708755-167c-4256-a7a4-79c5b1a071d2"
      },
      "outputs": [
        {
          "output_type": "execute_result",
          "data": {
            "text/plain": [
              "'Banana'"
            ],
            "application/vnd.google.colaboratory.intrinsic+json": {
              "type": "string"
            }
          },
          "metadata": {},
          "execution_count": 253
        }
      ],
      "source": [
        "mydict['A'][3] #index 0 1 2 3, 3rd element = banana"
      ]
    },
    {
      "cell_type": "code",
      "execution_count": 254,
      "metadata": {
        "colab": {
          "base_uri": "https://localhost:8080/",
          "height": 35
        },
        "id": "4S_dm12UdiZ5",
        "outputId": "dbb30ae8-9cc7-40b3-d513-29c53f8239b9"
      },
      "outputs": [
        {
          "output_type": "execute_result",
          "data": {
            "text/plain": [
              "'New Delhi'"
            ],
            "application/vnd.google.colaboratory.intrinsic+json": {
              "type": "string"
            }
          },
          "metadata": {},
          "execution_count": 254
        }
      ],
      "source": [
        "mydict['C']['India']"
      ]
    },
    {
      "cell_type": "code",
      "execution_count": 255,
      "metadata": {
        "id": "iBnI2KYndxbK",
        "colab": {
          "base_uri": "https://localhost:8080/",
          "height": 183
        },
        "outputId": "97b73e4e-70d3-4cc9-8b73-5bd6bf6bfb88"
      },
      "outputs": [
        {
          "output_type": "error",
          "ename": "NameError",
          "evalue": "ignored",
          "traceback": [
            "\u001b[0;31m---------------------------------------------------------------------------\u001b[0m",
            "\u001b[0;31mNameError\u001b[0m                                 Traceback (most recent call last)",
            "\u001b[0;32m<ipython-input-255-8faec0ab57b9>\u001b[0m in \u001b[0;36m<cell line: 2>\u001b[0;34m()\u001b[0m\n\u001b[1;32m      1\u001b[0m \u001b[0;31m# Math functions: can import specific functions or all using *\u001b[0m\u001b[0;34m\u001b[0m\u001b[0;34m\u001b[0m\u001b[0m\n\u001b[0;32m----> 2\u001b[0;31m \u001b[0msqrt\u001b[0m\u001b[0;34m(\u001b[0m\u001b[0;36m25\u001b[0m\u001b[0;34m)\u001b[0m \u001b[0;31m# raise error as you have not imported\u001b[0m\u001b[0;34m\u001b[0m\u001b[0;34m\u001b[0m\u001b[0m\n\u001b[0m",
            "\u001b[0;31mNameError\u001b[0m: name 'sqrt' is not defined"
          ]
        }
      ],
      "source": [
        "# Math functions: can import specific functions or all using *\n",
        "sqrt(25) # raise error as you have not imported"
      ]
    },
    {
      "cell_type": "code",
      "execution_count": 256,
      "metadata": {
        "id": "jtlRIuewfkho",
        "colab": {
          "base_uri": "https://localhost:8080/"
        },
        "outputId": "4cb8c387-7bee-49c0-a4bb-146757491591"
      },
      "outputs": [
        {
          "output_type": "execute_result",
          "data": {
            "text/plain": [
              "5.0"
            ]
          },
          "metadata": {},
          "execution_count": 256
        }
      ],
      "source": [
        "from math import sqrt\n",
        "sqrt(25)"
      ]
    },
    {
      "cell_type": "code",
      "execution_count": 257,
      "metadata": {
        "id": "u5LN2kMUfpgo",
        "colab": {
          "base_uri": "https://localhost:8080/",
          "height": 165
        },
        "outputId": "2147a481-4acf-4aa3-c23d-8d7f1626e680"
      },
      "outputs": [
        {
          "output_type": "error",
          "ename": "NameError",
          "evalue": "ignored",
          "traceback": [
            "\u001b[0;31m---------------------------------------------------------------------------\u001b[0m",
            "\u001b[0;31mNameError\u001b[0m                                 Traceback (most recent call last)",
            "\u001b[0;32m<ipython-input-257-637175d621a4>\u001b[0m in \u001b[0;36m<cell line: 1>\u001b[0;34m()\u001b[0m\n\u001b[0;32m----> 1\u001b[0;31m \u001b[0mfactorial\u001b[0m\u001b[0;34m(\u001b[0m\u001b[0;36m5\u001b[0m\u001b[0;34m)\u001b[0m\u001b[0;34m\u001b[0m\u001b[0;34m\u001b[0m\u001b[0m\n\u001b[0m",
            "\u001b[0;31mNameError\u001b[0m: name 'factorial' is not defined"
          ]
        }
      ],
      "source": [
        "factorial(5)"
      ]
    },
    {
      "cell_type": "code",
      "execution_count": 258,
      "metadata": {
        "id": "O42al4tpf23m",
        "colab": {
          "base_uri": "https://localhost:8080/"
        },
        "outputId": "048b8694-690e-4328-a352-d1f56e77a78e"
      },
      "outputs": [
        {
          "output_type": "execute_result",
          "data": {
            "text/plain": [
              "120"
            ]
          },
          "metadata": {},
          "execution_count": 258
        }
      ],
      "source": [
        "from math import factorial\n",
        "factorial(5)"
      ]
    },
    {
      "cell_type": "code",
      "execution_count": 259,
      "metadata": {
        "id": "8Kl2wEIhfSEJ",
        "colab": {
          "base_uri": "https://localhost:8080/",
          "height": 165
        },
        "outputId": "f75158d7-a352-4143-e396-e7ca021b0e0b"
      },
      "outputs": [
        {
          "output_type": "error",
          "ename": "NameError",
          "evalue": "ignored",
          "traceback": [
            "\u001b[0;31m---------------------------------------------------------------------------\u001b[0m",
            "\u001b[0;31mNameError\u001b[0m                                 Traceback (most recent call last)",
            "\u001b[0;32m<ipython-input-259-1b2f3ba94f3b>\u001b[0m in \u001b[0;36m<cell line: 1>\u001b[0;34m()\u001b[0m\n\u001b[0;32m----> 1\u001b[0;31m \u001b[0msin\u001b[0m\u001b[0;34m(\u001b[0m\u001b[0;36m90\u001b[0m\u001b[0;34m)\u001b[0m\u001b[0;34m\u001b[0m\u001b[0;34m\u001b[0m\u001b[0m\n\u001b[0m",
            "\u001b[0;31mNameError\u001b[0m: name 'sin' is not defined"
          ]
        }
      ],
      "source": [
        "sin(90)"
      ]
    },
    {
      "cell_type": "code",
      "execution_count": 260,
      "metadata": {
        "id": "1Zmvln2UgD91"
      },
      "outputs": [],
      "source": [
        "from math import sin,cos,tan"
      ]
    },
    {
      "cell_type": "code",
      "execution_count": null,
      "metadata": {
        "id": "wy4ycHVzgIT3"
      },
      "outputs": [],
      "source": [
        "tan(45)"
      ]
    },
    {
      "cell_type": "code",
      "execution_count": 261,
      "metadata": {
        "id": "iiM-Abv0gJ4c",
        "colab": {
          "base_uri": "https://localhost:8080/"
        },
        "outputId": "a48e2ddf-92c0-4e84-82ae-e619e3983df9"
      },
      "outputs": [
        {
          "output_type": "execute_result",
          "data": {
            "text/plain": [
              "30"
            ]
          },
          "metadata": {},
          "execution_count": 261
        }
      ],
      "source": [
        "from math import *\n",
        "l2=[5,2,3]\n",
        "prod(l2)"
      ]
    },
    {
      "cell_type": "code",
      "execution_count": 262,
      "metadata": {
        "colab": {
          "base_uri": "https://localhost:8080/"
        },
        "id": "BlJGJTencMpa",
        "outputId": "3aed7ee3-0bff-4bf4-9a04-9e05687c1c0d"
      },
      "outputs": [
        {
          "output_type": "stream",
          "name": "stdout",
          "text": [
            "120\n"
          ]
        }
      ],
      "source": [
        "# OR you can say 'import math'\n",
        "# But while calling any function you have to use math.Function_Name()\n",
        "# The math.prod() method returns the product of the elements from the given iterable.\n",
        "import math # or 'import math as mt', mt.sqrt(64 )\n",
        "sequence = (2, 2,5,6) # iterable where elements are given\n",
        "print(math.prod(sequence))\n"
      ]
    },
    {
      "cell_type": "code",
      "execution_count": 263,
      "metadata": {
        "colab": {
          "base_uri": "https://localhost:8080/"
        },
        "id": "PHoMI4rVPkPt",
        "outputId": "762c0494-8fe1-4979-db5b-a471425e798b"
      },
      "outputs": [
        {
          "output_type": "execute_result",
          "data": {
            "text/plain": [
              "24"
            ]
          },
          "metadata": {},
          "execution_count": 263
        }
      ],
      "source": [
        "import math\n",
        "l1=[2,3,4]\n",
        "math.prod(l1)"
      ]
    },
    {
      "cell_type": "code",
      "execution_count": 264,
      "metadata": {
        "colab": {
          "base_uri": "https://localhost:8080/"
        },
        "id": "I82kfNfHiJCk",
        "outputId": "b446cf21-23e7-48ca-c7c4-f4b9548800f0"
      },
      "outputs": [
        {
          "output_type": "execute_result",
          "data": {
            "text/plain": [
              "['__doc__',\n",
              " '__loader__',\n",
              " '__name__',\n",
              " '__package__',\n",
              " '__spec__',\n",
              " 'acos',\n",
              " 'acosh',\n",
              " 'asin',\n",
              " 'asinh',\n",
              " 'atan',\n",
              " 'atan2',\n",
              " 'atanh',\n",
              " 'ceil',\n",
              " 'comb',\n",
              " 'copysign',\n",
              " 'cos',\n",
              " 'cosh',\n",
              " 'degrees',\n",
              " 'dist',\n",
              " 'e',\n",
              " 'erf',\n",
              " 'erfc',\n",
              " 'exp',\n",
              " 'expm1',\n",
              " 'fabs',\n",
              " 'factorial',\n",
              " 'floor',\n",
              " 'fmod',\n",
              " 'frexp',\n",
              " 'fsum',\n",
              " 'gamma',\n",
              " 'gcd',\n",
              " 'hypot',\n",
              " 'inf',\n",
              " 'isclose',\n",
              " 'isfinite',\n",
              " 'isinf',\n",
              " 'isnan',\n",
              " 'isqrt',\n",
              " 'lcm',\n",
              " 'ldexp',\n",
              " 'lgamma',\n",
              " 'log',\n",
              " 'log10',\n",
              " 'log1p',\n",
              " 'log2',\n",
              " 'modf',\n",
              " 'nan',\n",
              " 'nextafter',\n",
              " 'perm',\n",
              " 'pi',\n",
              " 'pow',\n",
              " 'prod',\n",
              " 'radians',\n",
              " 'remainder',\n",
              " 'sin',\n",
              " 'sinh',\n",
              " 'sqrt',\n",
              " 'tan',\n",
              " 'tanh',\n",
              " 'tau',\n",
              " 'trunc',\n",
              " 'ulp']"
            ]
          },
          "metadata": {},
          "execution_count": 264
        }
      ],
      "source": [
        "dir(math) # all functions of math library"
      ]
    }
  ],
  "metadata": {
    "colab": {
      "provenance": []
    },
    "kernelspec": {
      "display_name": "Python 3",
      "name": "python3"
    },
    "language_info": {
      "name": "python"
    }
  },
  "nbformat": 4,
  "nbformat_minor": 0
}